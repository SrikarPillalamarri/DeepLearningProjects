{
 "cells": [
  {
   "cell_type": "code",
   "execution_count": 1,
   "id": "da9d03d5",
   "metadata": {},
   "outputs": [
    {
     "name": "stderr",
     "output_type": "stream",
     "text": [
      "C:\\Users\\SRIKAR PILLALAMARRI\\AppData\\Roaming\\Python\\Python311\\site-packages\\pandas\\core\\arrays\\masked.py:60: UserWarning: Pandas requires version '1.3.6' or newer of 'bottleneck' (version '1.3.5' currently installed).\n",
      "  from pandas.core import (\n"
     ]
    }
   ],
   "source": [
    "import pandas as pd\n",
    "import numpy as np\n",
    "import matplotlib.pyplot as plt\n",
    "import seaborn as sns"
   ]
  },
  {
   "cell_type": "code",
   "execution_count": 2,
   "id": "8a69cd4c",
   "metadata": {},
   "outputs": [],
   "source": [
    "import os\n",
    "from PIL import Image"
   ]
  },
  {
   "cell_type": "code",
   "execution_count": 3,
   "id": "cfa84add",
   "metadata": {},
   "outputs": [],
   "source": [
    "from keras.models import Sequential\n",
    "from keras.layers import Conv2D\n",
    "from keras.layers import MaxPooling2D\n",
    "from keras.layers import Dense\n",
    "from keras.layers import Flatten"
   ]
  },
  {
   "cell_type": "code",
   "execution_count": 4,
   "id": "90d4a9ad",
   "metadata": {},
   "outputs": [
    {
     "name": "stdout",
     "output_type": "stream",
     "text": [
      "Found 2000 images belonging to 2 classes.\n"
     ]
    }
   ],
   "source": [
    "from tensorflow.keras.preprocessing.image import ImageDataGenerator\n",
    "train_datagen = ImageDataGenerator(rescale = 1./255,\n",
    "                                  shear_range = 0.2,\n",
    "                                  zoom_range = 0.2,\n",
    "                                  horizontal_flip = True)\n",
    "test_datagen = ImageDataGenerator(rescale = 1./255,validation_split = 0.2)\n",
    "training_set = train_datagen.flow_from_directory(r'D:\\Data Analytics\\iNeuron\\Computer Vision\\Datasets\\Unzipped\\dogcat(1)\\dogcat\\cats_and_dogs_filtered\\train',\n",
    "                                                target_size = (128,128),\n",
    "                                                batch_size = 32,\n",
    "                                                class_mode = 'binary')\n"
   ]
  },
  {
   "cell_type": "code",
   "execution_count": 5,
   "id": "4c564f38",
   "metadata": {},
   "outputs": [
    {
     "name": "stdout",
     "output_type": "stream",
     "text": [
      "Found 1000 images belonging to 2 classes.\n"
     ]
    }
   ],
   "source": [
    "test_set = train_datagen.flow_from_directory(r'D:\\Data Analytics\\iNeuron\\Computer Vision\\Datasets\\Unzipped\\dogcat(1)\\dogcat\\cats_and_dogs_filtered\\validation',\n",
    "                                                target_size = (128,128),\n",
    "                                                batch_size = 32,\n",
    "                                                class_mode = 'binary')"
   ]
  },
  {
   "cell_type": "code",
   "execution_count": 6,
   "id": "b299e8c6",
   "metadata": {},
   "outputs": [
    {
     "name": "stderr",
     "output_type": "stream",
     "text": [
      "C:\\ProgramData\\anaconda3\\Lib\\site-packages\\keras\\src\\layers\\convolutional\\base_conv.py:99: UserWarning: Do not pass an `input_shape`/`input_dim` argument to a layer. When using Sequential models, prefer using an `Input(shape)` object as the first layer in the model instead.\n",
      "  super().__init__(\n"
     ]
    }
   ],
   "source": [
    "classifier = Sequential()\n",
    "# Here, we are using 32 filter each of 3,3. The input shape is of the resized one i.e.,128x128 and applied channels is 3 i.e.,RGB\n",
    "classifier.add(Conv2D(32,(3,3),input_shape = (128,128,3),activation = 'relu'))\n",
    "classifier.add(MaxPooling2D(pool_size = (3,3),strides = (3,3), padding = 'valid'))\n",
    "classifier.add(Conv2D(32,(2,2),activation = 'relu'))\n",
    "classifier.add(MaxPooling2D(pool_size = (2,2), strides = (2,2), padding = 'valid'))\n",
    "classifier.add(Flatten())\n",
    "classifier.add(Dense(units = 64, activation = 'relu'))\n",
    "classifier.add(Dense(units = 32, activation = 'relu'))\n",
    "classifier.add(Dense(units = 1, activation = 'sigmoid'))"
   ]
  },
  {
   "cell_type": "code",
   "execution_count": 7,
   "id": "7bbb2cc0",
   "metadata": {},
   "outputs": [],
   "source": [
    "classifier.compile(optimizer = 'adam', loss = 'binary_crossentropy', metrics = ['accuracy'])"
   ]
  },
  {
   "cell_type": "code",
   "execution_count": 8,
   "id": "2f29bae5",
   "metadata": {},
   "outputs": [
    {
     "name": "stdout",
     "output_type": "stream",
     "text": [
      "Epoch 1/10\n"
     ]
    },
    {
     "name": "stderr",
     "output_type": "stream",
     "text": [
      "C:\\ProgramData\\anaconda3\\Lib\\site-packages\\keras\\src\\trainers\\data_adapters\\py_dataset_adapter.py:120: UserWarning: Your `PyDataset` class should call `super().__init__(**kwargs)` in its constructor. `**kwargs` can include `workers`, `use_multiprocessing`, `max_queue_size`. Do not pass these arguments to `fit()`, as they will be ignored.\n",
      "  self._warn_if_super_not_called()\n"
     ]
    },
    {
     "name": "stdout",
     "output_type": "stream",
     "text": [
      "\u001b[1m63/63\u001b[0m \u001b[32m━━━━━━━━━━━━━━━━━━━━\u001b[0m\u001b[37m\u001b[0m \u001b[1m29s\u001b[0m 409ms/step - accuracy: 0.4909 - loss: 0.7252 - val_accuracy: 0.5000 - val_loss: 0.6726\n",
      "Epoch 2/10\n",
      "\u001b[1m63/63\u001b[0m \u001b[32m━━━━━━━━━━━━━━━━━━━━\u001b[0m\u001b[37m\u001b[0m \u001b[1m28s\u001b[0m 428ms/step - accuracy: 0.5908 - loss: 0.6490 - val_accuracy: 0.6580 - val_loss: 0.6336\n",
      "Epoch 3/10\n",
      "\u001b[1m63/63\u001b[0m \u001b[32m━━━━━━━━━━━━━━━━━━━━\u001b[0m\u001b[37m\u001b[0m \u001b[1m25s\u001b[0m 378ms/step - accuracy: 0.6697 - loss: 0.6058 - val_accuracy: 0.7000 - val_loss: 0.5909\n",
      "Epoch 4/10\n",
      "\u001b[1m63/63\u001b[0m \u001b[32m━━━━━━━━━━━━━━━━━━━━\u001b[0m\u001b[37m\u001b[0m \u001b[1m31s\u001b[0m 474ms/step - accuracy: 0.6861 - loss: 0.5843 - val_accuracy: 0.6820 - val_loss: 0.6094\n",
      "Epoch 5/10\n",
      "\u001b[1m63/63\u001b[0m \u001b[32m━━━━━━━━━━━━━━━━━━━━\u001b[0m\u001b[37m\u001b[0m \u001b[1m30s\u001b[0m 457ms/step - accuracy: 0.7021 - loss: 0.5727 - val_accuracy: 0.7070 - val_loss: 0.5857\n",
      "Epoch 6/10\n",
      "\u001b[1m63/63\u001b[0m \u001b[32m━━━━━━━━━━━━━━━━━━━━\u001b[0m\u001b[37m\u001b[0m \u001b[1m27s\u001b[0m 401ms/step - accuracy: 0.7455 - loss: 0.5084 - val_accuracy: 0.6840 - val_loss: 0.5906\n",
      "Epoch 7/10\n",
      "\u001b[1m63/63\u001b[0m \u001b[32m━━━━━━━━━━━━━━━━━━━━\u001b[0m\u001b[37m\u001b[0m \u001b[1m29s\u001b[0m 443ms/step - accuracy: 0.7594 - loss: 0.5086 - val_accuracy: 0.7000 - val_loss: 0.5679\n",
      "Epoch 8/10\n",
      "\u001b[1m63/63\u001b[0m \u001b[32m━━━━━━━━━━━━━━━━━━━━\u001b[0m\u001b[37m\u001b[0m \u001b[1m27s\u001b[0m 418ms/step - accuracy: 0.7517 - loss: 0.5239 - val_accuracy: 0.7150 - val_loss: 0.5490\n",
      "Epoch 9/10\n",
      "\u001b[1m63/63\u001b[0m \u001b[32m━━━━━━━━━━━━━━━━━━━━\u001b[0m\u001b[37m\u001b[0m \u001b[1m28s\u001b[0m 422ms/step - accuracy: 0.7762 - loss: 0.4651 - val_accuracy: 0.6720 - val_loss: 0.6231\n",
      "Epoch 10/10\n",
      "\u001b[1m63/63\u001b[0m \u001b[32m━━━━━━━━━━━━━━━━━━━━\u001b[0m\u001b[37m\u001b[0m \u001b[1m27s\u001b[0m 405ms/step - accuracy: 0.7410 - loss: 0.5055 - val_accuracy: 0.7250 - val_loss: 0.5478\n"
     ]
    }
   ],
   "source": [
    "model = classifier.fit(training_set,\n",
    "                      epochs = 10,\n",
    "                      validation_data = test_set)"
   ]
  },
  {
   "cell_type": "code",
   "execution_count": 21,
   "id": "772d3f26",
   "metadata": {},
   "outputs": [],
   "source": [
    "from keras.preprocessing import image\n",
    "# Load the image and resize it to (128, 128)\n",
    "test_image = image.load_img(r'D:\\Data Analytics\\iNeuron\\Computer Vision\\Datasets\\Unzipped\\dogcat(1)\\dogcat\\cats_and_dogs_filtered\\validation\\dogs\\dog.2008.jpg', target_size=(128, 128))\n",
    "# Convert the image to a NumPy array (optional)\n",
    "test_image = image.img_to_array(test_image)\n",
    "# Optionally expand the dimensions if needed (e.g., if the model expects batch input)\n",
    "test_image = np.expand_dims(test_image, axis=0)\n",
    "#print(test_image.shape)"
   ]
  },
  {
   "cell_type": "code",
   "execution_count": 22,
   "id": "efd25c5d",
   "metadata": {},
   "outputs": [
    {
     "name": "stdout",
     "output_type": "stream",
     "text": [
      "\u001b[1m1/1\u001b[0m \u001b[32m━━━━━━━━━━━━━━━━━━━━\u001b[0m\u001b[37m\u001b[0m \u001b[1m0s\u001b[0m 41ms/step\n"
     ]
    }
   ],
   "source": [
    "result = classifier.predict(test_image)"
   ]
  },
  {
   "cell_type": "code",
   "execution_count": 28,
   "id": "40a2f899",
   "metadata": {},
   "outputs": [
    {
     "name": "stdout",
     "output_type": "stream",
     "text": [
      "not dog\n"
     ]
    }
   ],
   "source": [
    "training_set.class_indices\n",
    "if result[0][0] == '1':\n",
    "    prediction = 'dog'\n",
    "    print(prediction)\n",
    "else:\n",
    "    print('not dog')"
   ]
  },
  {
   "cell_type": "code",
   "execution_count": 32,
   "id": "16214078",
   "metadata": {},
   "outputs": [
    {
     "name": "stdout",
     "output_type": "stream",
     "text": [
      "not a cat\n"
     ]
    }
   ],
   "source": [
    "if result[0][0]:\n",
    "    prediction = 'cat'\n",
    "    print(prediction)\n",
    "else:\n",
    "    print('not a cat')"
   ]
  },
  {
   "cell_type": "markdown",
   "id": "e5f0f107",
   "metadata": {},
   "source": [
    "Here, we can't use this because the output is in the floating point number."
   ]
  },
  {
   "cell_type": "code",
   "execution_count": 24,
   "id": "bf27d094",
   "metadata": {},
   "outputs": [
    {
     "data": {
      "text/plain": [
       "array([[0.]], dtype=float32)"
      ]
     },
     "execution_count": 24,
     "metadata": {},
     "output_type": "execute_result"
    }
   ],
   "source": [
    "result"
   ]
  },
  {
   "cell_type": "code",
   "execution_count": 25,
   "id": "fc76e59c",
   "metadata": {},
   "outputs": [
    {
     "data": {
      "text/plain": [
       "0.0"
      ]
     },
     "execution_count": 25,
     "metadata": {},
     "output_type": "execute_result"
    }
   ],
   "source": [
    "result[0][0]"
   ]
  },
  {
   "cell_type": "code",
   "execution_count": 26,
   "id": "3155f5bc",
   "metadata": {},
   "outputs": [
    {
     "name": "stdout",
     "output_type": "stream",
     "text": [
      "{'cats': 0, 'dogs': 1}\n"
     ]
    }
   ],
   "source": [
    "print(training_set.class_indices)"
   ]
  },
  {
   "cell_type": "code",
   "execution_count": 27,
   "id": "53451489",
   "metadata": {},
   "outputs": [
    {
     "name": "stdout",
     "output_type": "stream",
     "text": [
      "Class: cats, Label: 0\n",
      "Class: dogs, Label: 1\n"
     ]
    }
   ],
   "source": [
    "for class_name, class_label in training_set.class_indices.items():\n",
    "    print(f\"Class: {class_name}, Label: {class_label}\")"
   ]
  },
  {
   "cell_type": "code",
   "execution_count": 30,
   "id": "f461ddeb",
   "metadata": {},
   "outputs": [
    {
     "name": "stdout",
     "output_type": "stream",
     "text": [
      "Total number of samples: 2000\n",
      "Class labels and their indices: {'cats': 0, 'dogs': 1}\n"
     ]
    }
   ],
   "source": [
    "print(f\"Total number of samples: {training_set.samples}\")\n",
    "print(f\"Class labels and their indices: {training_set.class_indices}\")"
   ]
  },
  {
   "cell_type": "code",
   "execution_count": 33,
   "id": "dfa788b9",
   "metadata": {},
   "outputs": [
    {
     "name": "stdout",
     "output_type": "stream",
     "text": [
      "\u001b[1m1/1\u001b[0m \u001b[32m━━━━━━━━━━━━━━━━━━━━\u001b[0m\u001b[37m\u001b[0m \u001b[1m0s\u001b[0m 171ms/step\n",
      "Class indices: {'cats': 0, 'dogs': 1}\n",
      "The predicted class is: cat\n"
     ]
    }
   ],
   "source": [
    "test_image = image.load_img(\n",
    "    r'D:\\Data Analytics\\iNeuron\\Computer Vision\\Datasets\\Unzipped\\dogcat(1)\\dogcat\\cats_and_dogs_filtered\\validation\\dogs\\dog.2008.jpg',\n",
    "    target_size=(128, 128)\n",
    ")\n",
    "test_image = image.img_to_array(test_image)\n",
    "test_image = np.expand_dims(test_image, axis=0)  # Add batch dimension\n",
    "\n",
    "# Predict the class\n",
    "result = classifier.predict(test_image)\n",
    "\n",
    "# Check the class labels\n",
    "print(f\"Class indices: {training_set.class_indices}\")\n",
    "\n",
    "# Interpret the prediction\n",
    "if result[0][0] > 0.5:  # Threshold of 0.5 (dog class)\n",
    "    prediction = 'dog'\n",
    "else:  # Below 0.5 is the cat class\n",
    "    prediction = 'cat'\n",
    "\n",
    "print(f\"The predicted class is: {prediction}\")"
   ]
  },
  {
   "cell_type": "code",
   "execution_count": 36,
   "id": "ddf7d1b8",
   "metadata": {},
   "outputs": [
    {
     "name": "stdout",
     "output_type": "stream",
     "text": [
      "\u001b[1m1/1\u001b[0m \u001b[32m━━━━━━━━━━━━━━━━━━━━\u001b[0m\u001b[37m\u001b[0m \u001b[1m0s\u001b[0m 51ms/step\n",
      "Class indices: {'cats': 0, 'dogs': 1}\n",
      "The predicted class is: dog\n"
     ]
    }
   ],
   "source": [
    "test_image = image.load_img(\n",
    "    r'D:\\Data Analytics\\iNeuron\\Computer Vision\\Datasets\\Unzipped\\dogcat(1)\\dogcat\\cats_and_dogs_filtered\\validation\\dogs\\dog.2005.jpg',\n",
    "    target_size=(128, 128)\n",
    ")\n",
    "test_image = image.img_to_array(test_image)\n",
    "test_image = np.expand_dims(test_image, axis=0)  # Add batch dimension\n",
    "\n",
    "# Predict the class\n",
    "result = classifier.predict(test_image)\n",
    "\n",
    "# Check the class labels\n",
    "print(f\"Class indices: {training_set.class_indices}\")\n",
    "\n",
    "# Interpret the prediction\n",
    "if result[0][0] > 0.5:  # Threshold of 0.5 (dog class)\n",
    "    prediction = 'dog'\n",
    "else:  # Below 0.5 is the cat class\n",
    "    prediction = 'cat'\n",
    "\n",
    "print(f\"The predicted class is: {prediction}\")"
   ]
  },
  {
   "cell_type": "code",
   "execution_count": null,
   "id": "4a73d75b",
   "metadata": {},
   "outputs": [],
   "source": []
  }
 ],
 "metadata": {
  "kernelspec": {
   "display_name": "Python 3 (ipykernel)",
   "language": "python",
   "name": "python3"
  },
  "language_info": {
   "codemirror_mode": {
    "name": "ipython",
    "version": 3
   },
   "file_extension": ".py",
   "mimetype": "text/x-python",
   "name": "python",
   "nbconvert_exporter": "python",
   "pygments_lexer": "ipython3",
   "version": "3.11.5"
  }
 },
 "nbformat": 4,
 "nbformat_minor": 5
}
