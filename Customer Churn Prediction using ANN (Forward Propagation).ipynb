{
 "cells": [
  {
   "cell_type": "code",
   "execution_count": 1,
   "id": "03fa7922",
   "metadata": {},
   "outputs": [
    {
     "name": "stderr",
     "output_type": "stream",
     "text": [
      "C:\\Users\\SRIKAR PILLALAMARRI\\AppData\\Roaming\\Python\\Python311\\site-packages\\pandas\\core\\arrays\\masked.py:60: UserWarning: Pandas requires version '1.3.6' or newer of 'bottleneck' (version '1.3.5' currently installed).\n",
      "  from pandas.core import (\n"
     ]
    }
   ],
   "source": [
    "import pandas as pd\n",
    "import numpy as np\n",
    "import matplotlib.pyplot as plt"
   ]
  },
  {
   "cell_type": "code",
   "execution_count": 2,
   "id": "f0a52ed4",
   "metadata": {},
   "outputs": [
    {
     "data": {
      "text/html": [
       "<div>\n",
       "<style scoped>\n",
       "    .dataframe tbody tr th:only-of-type {\n",
       "        vertical-align: middle;\n",
       "    }\n",
       "\n",
       "    .dataframe tbody tr th {\n",
       "        vertical-align: top;\n",
       "    }\n",
       "\n",
       "    .dataframe thead th {\n",
       "        text-align: right;\n",
       "    }\n",
       "</style>\n",
       "<table border=\"1\" class=\"dataframe\">\n",
       "  <thead>\n",
       "    <tr style=\"text-align: right;\">\n",
       "      <th></th>\n",
       "      <th>RowNumber</th>\n",
       "      <th>CustomerId</th>\n",
       "      <th>Surname</th>\n",
       "      <th>CreditScore</th>\n",
       "      <th>Geography</th>\n",
       "      <th>Gender</th>\n",
       "      <th>Age</th>\n",
       "      <th>Tenure</th>\n",
       "      <th>Balance</th>\n",
       "      <th>NumOfProducts</th>\n",
       "      <th>HasCrCard</th>\n",
       "      <th>IsActiveMember</th>\n",
       "      <th>EstimatedSalary</th>\n",
       "      <th>Exited</th>\n",
       "    </tr>\n",
       "  </thead>\n",
       "  <tbody>\n",
       "    <tr>\n",
       "      <th>0</th>\n",
       "      <td>1</td>\n",
       "      <td>15634602</td>\n",
       "      <td>Hargrave</td>\n",
       "      <td>619</td>\n",
       "      <td>France</td>\n",
       "      <td>Female</td>\n",
       "      <td>42</td>\n",
       "      <td>2</td>\n",
       "      <td>0.00</td>\n",
       "      <td>1</td>\n",
       "      <td>1</td>\n",
       "      <td>1</td>\n",
       "      <td>101348.88</td>\n",
       "      <td>1</td>\n",
       "    </tr>\n",
       "    <tr>\n",
       "      <th>1</th>\n",
       "      <td>2</td>\n",
       "      <td>15647311</td>\n",
       "      <td>Hill</td>\n",
       "      <td>608</td>\n",
       "      <td>Spain</td>\n",
       "      <td>Female</td>\n",
       "      <td>41</td>\n",
       "      <td>1</td>\n",
       "      <td>83807.86</td>\n",
       "      <td>1</td>\n",
       "      <td>0</td>\n",
       "      <td>1</td>\n",
       "      <td>112542.58</td>\n",
       "      <td>0</td>\n",
       "    </tr>\n",
       "    <tr>\n",
       "      <th>2</th>\n",
       "      <td>3</td>\n",
       "      <td>15619304</td>\n",
       "      <td>Onio</td>\n",
       "      <td>502</td>\n",
       "      <td>France</td>\n",
       "      <td>Female</td>\n",
       "      <td>42</td>\n",
       "      <td>8</td>\n",
       "      <td>159660.80</td>\n",
       "      <td>3</td>\n",
       "      <td>1</td>\n",
       "      <td>0</td>\n",
       "      <td>113931.57</td>\n",
       "      <td>1</td>\n",
       "    </tr>\n",
       "    <tr>\n",
       "      <th>3</th>\n",
       "      <td>4</td>\n",
       "      <td>15701354</td>\n",
       "      <td>Boni</td>\n",
       "      <td>699</td>\n",
       "      <td>France</td>\n",
       "      <td>Female</td>\n",
       "      <td>39</td>\n",
       "      <td>1</td>\n",
       "      <td>0.00</td>\n",
       "      <td>2</td>\n",
       "      <td>0</td>\n",
       "      <td>0</td>\n",
       "      <td>93826.63</td>\n",
       "      <td>0</td>\n",
       "    </tr>\n",
       "    <tr>\n",
       "      <th>4</th>\n",
       "      <td>5</td>\n",
       "      <td>15737888</td>\n",
       "      <td>Mitchell</td>\n",
       "      <td>850</td>\n",
       "      <td>Spain</td>\n",
       "      <td>Female</td>\n",
       "      <td>43</td>\n",
       "      <td>2</td>\n",
       "      <td>125510.82</td>\n",
       "      <td>1</td>\n",
       "      <td>1</td>\n",
       "      <td>1</td>\n",
       "      <td>79084.10</td>\n",
       "      <td>0</td>\n",
       "    </tr>\n",
       "  </tbody>\n",
       "</table>\n",
       "</div>"
      ],
      "text/plain": [
       "   RowNumber  CustomerId   Surname  CreditScore Geography  Gender  Age  \\\n",
       "0          1    15634602  Hargrave          619    France  Female   42   \n",
       "1          2    15647311      Hill          608     Spain  Female   41   \n",
       "2          3    15619304      Onio          502    France  Female   42   \n",
       "3          4    15701354      Boni          699    France  Female   39   \n",
       "4          5    15737888  Mitchell          850     Spain  Female   43   \n",
       "\n",
       "   Tenure    Balance  NumOfProducts  HasCrCard  IsActiveMember  \\\n",
       "0       2       0.00              1          1               1   \n",
       "1       1   83807.86              1          0               1   \n",
       "2       8  159660.80              3          1               0   \n",
       "3       1       0.00              2          0               0   \n",
       "4       2  125510.82              1          1               1   \n",
       "\n",
       "   EstimatedSalary  Exited  \n",
       "0        101348.88       1  \n",
       "1        112542.58       0  \n",
       "2        113931.57       1  \n",
       "3         93826.63       0  \n",
       "4         79084.10       0  "
      ]
     },
     "execution_count": 2,
     "metadata": {},
     "output_type": "execute_result"
    }
   ],
   "source": [
    "df = pd.read_csv(r'D:\\Data Analytics\\Datasets\\Extarcted\\Credit Card Customer Churn Prediction\\Churn_Modelling.csv')\n",
    "df.head()"
   ]
  },
  {
   "cell_type": "code",
   "execution_count": 3,
   "id": "1ebb30c3",
   "metadata": {},
   "outputs": [
    {
     "name": "stdout",
     "output_type": "stream",
     "text": [
      "<class 'pandas.core.frame.DataFrame'>\n",
      "RangeIndex: 10000 entries, 0 to 9999\n",
      "Data columns (total 14 columns):\n",
      " #   Column           Non-Null Count  Dtype  \n",
      "---  ------           --------------  -----  \n",
      " 0   RowNumber        10000 non-null  int64  \n",
      " 1   CustomerId       10000 non-null  int64  \n",
      " 2   Surname          10000 non-null  object \n",
      " 3   CreditScore      10000 non-null  int64  \n",
      " 4   Geography        10000 non-null  object \n",
      " 5   Gender           10000 non-null  object \n",
      " 6   Age              10000 non-null  int64  \n",
      " 7   Tenure           10000 non-null  int64  \n",
      " 8   Balance          10000 non-null  float64\n",
      " 9   NumOfProducts    10000 non-null  int64  \n",
      " 10  HasCrCard        10000 non-null  int64  \n",
      " 11  IsActiveMember   10000 non-null  int64  \n",
      " 12  EstimatedSalary  10000 non-null  float64\n",
      " 13  Exited           10000 non-null  int64  \n",
      "dtypes: float64(2), int64(9), object(3)\n",
      "memory usage: 1.1+ MB\n"
     ]
    }
   ],
   "source": [
    "df.info()"
   ]
  },
  {
   "cell_type": "code",
   "execution_count": 4,
   "id": "6a126d30",
   "metadata": {},
   "outputs": [
    {
     "data": {
      "text/plain": [
       "RowNumber          0\n",
       "CustomerId         0\n",
       "Surname            0\n",
       "CreditScore        0\n",
       "Geography          0\n",
       "Gender             0\n",
       "Age                0\n",
       "Tenure             0\n",
       "Balance            0\n",
       "NumOfProducts      0\n",
       "HasCrCard          0\n",
       "IsActiveMember     0\n",
       "EstimatedSalary    0\n",
       "Exited             0\n",
       "dtype: int64"
      ]
     },
     "execution_count": 4,
     "metadata": {},
     "output_type": "execute_result"
    }
   ],
   "source": [
    "df.isnull().sum()"
   ]
  },
  {
   "cell_type": "code",
   "execution_count": 6,
   "id": "3d7432a3",
   "metadata": {},
   "outputs": [
    {
     "data": {
      "text/plain": [
       "0"
      ]
     },
     "execution_count": 6,
     "metadata": {},
     "output_type": "execute_result"
    }
   ],
   "source": [
    "df.duplicated().sum()"
   ]
  },
  {
   "cell_type": "code",
   "execution_count": 7,
   "id": "ae7f7b9a",
   "metadata": {},
   "outputs": [
    {
     "data": {
      "text/plain": [
       "Exited\n",
       "0    7963\n",
       "1    2037\n",
       "Name: count, dtype: int64"
      ]
     },
     "execution_count": 7,
     "metadata": {},
     "output_type": "execute_result"
    }
   ],
   "source": [
    "df['Exited'].value_counts()"
   ]
  },
  {
   "cell_type": "code",
   "execution_count": 9,
   "id": "c8585bcf",
   "metadata": {},
   "outputs": [
    {
     "data": {
      "text/plain": [
       "Geography\n",
       "France     5014\n",
       "Germany    2509\n",
       "Spain      2477\n",
       "Name: count, dtype: int64"
      ]
     },
     "execution_count": 9,
     "metadata": {},
     "output_type": "execute_result"
    }
   ],
   "source": [
    "df['Geography'].value_counts()"
   ]
  },
  {
   "cell_type": "code",
   "execution_count": 10,
   "id": "a3058700",
   "metadata": {},
   "outputs": [
    {
     "data": {
      "text/plain": [
       "Gender\n",
       "Male      5457\n",
       "Female    4543\n",
       "Name: count, dtype: int64"
      ]
     },
     "execution_count": 10,
     "metadata": {},
     "output_type": "execute_result"
    }
   ],
   "source": [
    "df['Gender'].value_counts()"
   ]
  },
  {
   "cell_type": "code",
   "execution_count": 11,
   "id": "984139bd",
   "metadata": {},
   "outputs": [],
   "source": [
    "df.drop(columns = ['RowNumber', 'CustomerId','Surname'], inplace = True)"
   ]
  },
  {
   "cell_type": "code",
   "execution_count": 12,
   "id": "aa1f7d74",
   "metadata": {},
   "outputs": [
    {
     "data": {
      "text/html": [
       "<div>\n",
       "<style scoped>\n",
       "    .dataframe tbody tr th:only-of-type {\n",
       "        vertical-align: middle;\n",
       "    }\n",
       "\n",
       "    .dataframe tbody tr th {\n",
       "        vertical-align: top;\n",
       "    }\n",
       "\n",
       "    .dataframe thead th {\n",
       "        text-align: right;\n",
       "    }\n",
       "</style>\n",
       "<table border=\"1\" class=\"dataframe\">\n",
       "  <thead>\n",
       "    <tr style=\"text-align: right;\">\n",
       "      <th></th>\n",
       "      <th>CreditScore</th>\n",
       "      <th>Geography</th>\n",
       "      <th>Gender</th>\n",
       "      <th>Age</th>\n",
       "      <th>Tenure</th>\n",
       "      <th>Balance</th>\n",
       "      <th>NumOfProducts</th>\n",
       "      <th>HasCrCard</th>\n",
       "      <th>IsActiveMember</th>\n",
       "      <th>EstimatedSalary</th>\n",
       "      <th>Exited</th>\n",
       "    </tr>\n",
       "  </thead>\n",
       "  <tbody>\n",
       "    <tr>\n",
       "      <th>0</th>\n",
       "      <td>619</td>\n",
       "      <td>France</td>\n",
       "      <td>Female</td>\n",
       "      <td>42</td>\n",
       "      <td>2</td>\n",
       "      <td>0.00</td>\n",
       "      <td>1</td>\n",
       "      <td>1</td>\n",
       "      <td>1</td>\n",
       "      <td>101348.88</td>\n",
       "      <td>1</td>\n",
       "    </tr>\n",
       "    <tr>\n",
       "      <th>1</th>\n",
       "      <td>608</td>\n",
       "      <td>Spain</td>\n",
       "      <td>Female</td>\n",
       "      <td>41</td>\n",
       "      <td>1</td>\n",
       "      <td>83807.86</td>\n",
       "      <td>1</td>\n",
       "      <td>0</td>\n",
       "      <td>1</td>\n",
       "      <td>112542.58</td>\n",
       "      <td>0</td>\n",
       "    </tr>\n",
       "    <tr>\n",
       "      <th>2</th>\n",
       "      <td>502</td>\n",
       "      <td>France</td>\n",
       "      <td>Female</td>\n",
       "      <td>42</td>\n",
       "      <td>8</td>\n",
       "      <td>159660.80</td>\n",
       "      <td>3</td>\n",
       "      <td>1</td>\n",
       "      <td>0</td>\n",
       "      <td>113931.57</td>\n",
       "      <td>1</td>\n",
       "    </tr>\n",
       "    <tr>\n",
       "      <th>3</th>\n",
       "      <td>699</td>\n",
       "      <td>France</td>\n",
       "      <td>Female</td>\n",
       "      <td>39</td>\n",
       "      <td>1</td>\n",
       "      <td>0.00</td>\n",
       "      <td>2</td>\n",
       "      <td>0</td>\n",
       "      <td>0</td>\n",
       "      <td>93826.63</td>\n",
       "      <td>0</td>\n",
       "    </tr>\n",
       "    <tr>\n",
       "      <th>4</th>\n",
       "      <td>850</td>\n",
       "      <td>Spain</td>\n",
       "      <td>Female</td>\n",
       "      <td>43</td>\n",
       "      <td>2</td>\n",
       "      <td>125510.82</td>\n",
       "      <td>1</td>\n",
       "      <td>1</td>\n",
       "      <td>1</td>\n",
       "      <td>79084.10</td>\n",
       "      <td>0</td>\n",
       "    </tr>\n",
       "  </tbody>\n",
       "</table>\n",
       "</div>"
      ],
      "text/plain": [
       "   CreditScore Geography  Gender  Age  Tenure    Balance  NumOfProducts  \\\n",
       "0          619    France  Female   42       2       0.00              1   \n",
       "1          608     Spain  Female   41       1   83807.86              1   \n",
       "2          502    France  Female   42       8  159660.80              3   \n",
       "3          699    France  Female   39       1       0.00              2   \n",
       "4          850     Spain  Female   43       2  125510.82              1   \n",
       "\n",
       "   HasCrCard  IsActiveMember  EstimatedSalary  Exited  \n",
       "0          1               1        101348.88       1  \n",
       "1          0               1        112542.58       0  \n",
       "2          1               0        113931.57       1  \n",
       "3          0               0         93826.63       0  \n",
       "4          1               1         79084.10       0  "
      ]
     },
     "execution_count": 12,
     "metadata": {},
     "output_type": "execute_result"
    }
   ],
   "source": [
    "df.head()"
   ]
  },
  {
   "cell_type": "markdown",
   "id": "36a8e31b",
   "metadata": {},
   "source": [
    "Here, We need to transform the categorical data into numerical data. So, we use the pandas library to convert those."
   ]
  },
  {
   "cell_type": "code",
   "execution_count": 15,
   "id": "baae05e5",
   "metadata": {},
   "outputs": [],
   "source": [
    "df = pd.get_dummies(df,columns = ['Geography','Gender'], drop_first = True)"
   ]
  },
  {
   "cell_type": "code",
   "execution_count": 16,
   "id": "60632be6",
   "metadata": {},
   "outputs": [],
   "source": [
    "X = df.drop(columns = ['Exited'])\n",
    "y = df['Exited']"
   ]
  },
  {
   "cell_type": "code",
   "execution_count": 17,
   "id": "ae0aab35",
   "metadata": {},
   "outputs": [],
   "source": [
    "from sklearn.model_selection import train_test_split\n",
    "X_train,X_test,y_train,y_test = train_test_split(X,y,test_size = 0.2, random_state = 42)"
   ]
  },
  {
   "cell_type": "code",
   "execution_count": 19,
   "id": "990bc589",
   "metadata": {},
   "outputs": [
    {
     "data": {
      "text/plain": [
       "(8000, 11)"
      ]
     },
     "execution_count": 19,
     "metadata": {},
     "output_type": "execute_result"
    }
   ],
   "source": [
    "X_train.shape"
   ]
  },
  {
   "cell_type": "code",
   "execution_count": 20,
   "id": "a7655298",
   "metadata": {},
   "outputs": [],
   "source": [
    "from sklearn.preprocessing import StandardScaler\n",
    "scaler = StandardScaler()\n",
    "X_train_scaled = scaler.fit_transform(X_train)\n",
    "X_test_scaled = scaler.transform(X_test)"
   ]
  },
  {
   "cell_type": "code",
   "execution_count": 21,
   "id": "da34ef7a",
   "metadata": {},
   "outputs": [],
   "source": [
    "import tensorflow\n",
    "from tensorflow import keras\n",
    "from tensorflow.keras import Sequential\n",
    "from tensorflow.keras.layers import Dense"
   ]
  },
  {
   "cell_type": "code",
   "execution_count": 44,
   "id": "24186997",
   "metadata": {},
   "outputs": [
    {
     "name": "stderr",
     "output_type": "stream",
     "text": [
      "C:\\ProgramData\\anaconda3\\Lib\\site-packages\\keras\\src\\layers\\core\\dense.py:86: UserWarning: Do not pass an `input_shape`/`input_dim` argument to a layer. When using Sequential models, prefer using an `Input(shape)` object as the first layer in the model instead.\n",
      "  super().__init__(activity_regularizer=activity_regularizer, **kwargs)\n"
     ]
    }
   ],
   "source": [
    "model = Sequential()\n",
    "model.add(Dense(11,activation = 'relu', input_dim = 11)),\n",
    "model.add(Dense(11, activation = 'relu'))\n",
    "model.add(Dense(1, activation = 'relu'))"
   ]
  },
  {
   "cell_type": "code",
   "execution_count": 45,
   "id": "944a97ab",
   "metadata": {},
   "outputs": [
    {
     "data": {
      "text/html": [
       "<pre style=\"white-space:pre;overflow-x:auto;line-height:normal;font-family:Menlo,'DejaVu Sans Mono',consolas,'Courier New',monospace\"><span style=\"font-weight: bold\">Model: \"sequential_3\"</span>\n",
       "</pre>\n"
      ],
      "text/plain": [
       "\u001b[1mModel: \"sequential_3\"\u001b[0m\n"
      ]
     },
     "metadata": {},
     "output_type": "display_data"
    },
    {
     "data": {
      "text/html": [
       "<pre style=\"white-space:pre;overflow-x:auto;line-height:normal;font-family:Menlo,'DejaVu Sans Mono',consolas,'Courier New',monospace\">┏━━━━━━━━━━━━━━━━━━━━━━━━━━━━━━━━━┳━━━━━━━━━━━━━━━━━━━━━━━━┳━━━━━━━━━━━━━━━┓\n",
       "┃<span style=\"font-weight: bold\"> Layer (type)                    </span>┃<span style=\"font-weight: bold\"> Output Shape           </span>┃<span style=\"font-weight: bold\">       Param # </span>┃\n",
       "┡━━━━━━━━━━━━━━━━━━━━━━━━━━━━━━━━━╇━━━━━━━━━━━━━━━━━━━━━━━━╇━━━━━━━━━━━━━━━┩\n",
       "│ dense_8 (<span style=\"color: #0087ff; text-decoration-color: #0087ff\">Dense</span>)                 │ (<span style=\"color: #00d7ff; text-decoration-color: #00d7ff\">None</span>, <span style=\"color: #00af00; text-decoration-color: #00af00\">11</span>)             │           <span style=\"color: #00af00; text-decoration-color: #00af00\">132</span> │\n",
       "├─────────────────────────────────┼────────────────────────┼───────────────┤\n",
       "│ dense_9 (<span style=\"color: #0087ff; text-decoration-color: #0087ff\">Dense</span>)                 │ (<span style=\"color: #00d7ff; text-decoration-color: #00d7ff\">None</span>, <span style=\"color: #00af00; text-decoration-color: #00af00\">11</span>)             │           <span style=\"color: #00af00; text-decoration-color: #00af00\">132</span> │\n",
       "├─────────────────────────────────┼────────────────────────┼───────────────┤\n",
       "│ dense_10 (<span style=\"color: #0087ff; text-decoration-color: #0087ff\">Dense</span>)                │ (<span style=\"color: #00d7ff; text-decoration-color: #00d7ff\">None</span>, <span style=\"color: #00af00; text-decoration-color: #00af00\">1</span>)              │            <span style=\"color: #00af00; text-decoration-color: #00af00\">12</span> │\n",
       "└─────────────────────────────────┴────────────────────────┴───────────────┘\n",
       "</pre>\n"
      ],
      "text/plain": [
       "┏━━━━━━━━━━━━━━━━━━━━━━━━━━━━━━━━━┳━━━━━━━━━━━━━━━━━━━━━━━━┳━━━━━━━━━━━━━━━┓\n",
       "┃\u001b[1m \u001b[0m\u001b[1mLayer (type)                   \u001b[0m\u001b[1m \u001b[0m┃\u001b[1m \u001b[0m\u001b[1mOutput Shape          \u001b[0m\u001b[1m \u001b[0m┃\u001b[1m \u001b[0m\u001b[1m      Param #\u001b[0m\u001b[1m \u001b[0m┃\n",
       "┡━━━━━━━━━━━━━━━━━━━━━━━━━━━━━━━━━╇━━━━━━━━━━━━━━━━━━━━━━━━╇━━━━━━━━━━━━━━━┩\n",
       "│ dense_8 (\u001b[38;5;33mDense\u001b[0m)                 │ (\u001b[38;5;45mNone\u001b[0m, \u001b[38;5;34m11\u001b[0m)             │           \u001b[38;5;34m132\u001b[0m │\n",
       "├─────────────────────────────────┼────────────────────────┼───────────────┤\n",
       "│ dense_9 (\u001b[38;5;33mDense\u001b[0m)                 │ (\u001b[38;5;45mNone\u001b[0m, \u001b[38;5;34m11\u001b[0m)             │           \u001b[38;5;34m132\u001b[0m │\n",
       "├─────────────────────────────────┼────────────────────────┼───────────────┤\n",
       "│ dense_10 (\u001b[38;5;33mDense\u001b[0m)                │ (\u001b[38;5;45mNone\u001b[0m, \u001b[38;5;34m1\u001b[0m)              │            \u001b[38;5;34m12\u001b[0m │\n",
       "└─────────────────────────────────┴────────────────────────┴───────────────┘\n"
      ]
     },
     "metadata": {},
     "output_type": "display_data"
    },
    {
     "data": {
      "text/html": [
       "<pre style=\"white-space:pre;overflow-x:auto;line-height:normal;font-family:Menlo,'DejaVu Sans Mono',consolas,'Courier New',monospace\"><span style=\"font-weight: bold\"> Total params: </span><span style=\"color: #00af00; text-decoration-color: #00af00\">276</span> (1.08 KB)\n",
       "</pre>\n"
      ],
      "text/plain": [
       "\u001b[1m Total params: \u001b[0m\u001b[38;5;34m276\u001b[0m (1.08 KB)\n"
      ]
     },
     "metadata": {},
     "output_type": "display_data"
    },
    {
     "data": {
      "text/html": [
       "<pre style=\"white-space:pre;overflow-x:auto;line-height:normal;font-family:Menlo,'DejaVu Sans Mono',consolas,'Courier New',monospace\"><span style=\"font-weight: bold\"> Trainable params: </span><span style=\"color: #00af00; text-decoration-color: #00af00\">276</span> (1.08 KB)\n",
       "</pre>\n"
      ],
      "text/plain": [
       "\u001b[1m Trainable params: \u001b[0m\u001b[38;5;34m276\u001b[0m (1.08 KB)\n"
      ]
     },
     "metadata": {},
     "output_type": "display_data"
    },
    {
     "data": {
      "text/html": [
       "<pre style=\"white-space:pre;overflow-x:auto;line-height:normal;font-family:Menlo,'DejaVu Sans Mono',consolas,'Courier New',monospace\"><span style=\"font-weight: bold\"> Non-trainable params: </span><span style=\"color: #00af00; text-decoration-color: #00af00\">0</span> (0.00 B)\n",
       "</pre>\n"
      ],
      "text/plain": [
       "\u001b[1m Non-trainable params: \u001b[0m\u001b[38;5;34m0\u001b[0m (0.00 B)\n"
      ]
     },
     "metadata": {},
     "output_type": "display_data"
    }
   ],
   "source": [
    "model.summary()"
   ]
  },
  {
   "cell_type": "code",
   "execution_count": 46,
   "id": "ca4d1347",
   "metadata": {},
   "outputs": [],
   "source": [
    "model.compile(loss = 'binary_crossentropy', optimizer = 'Adam', metrics = ['accuracy'])"
   ]
  },
  {
   "cell_type": "code",
   "execution_count": 47,
   "id": "1a494351",
   "metadata": {},
   "outputs": [
    {
     "name": "stdout",
     "output_type": "stream",
     "text": [
      "Epoch 1/100\n",
      "\u001b[1m200/200\u001b[0m \u001b[32m━━━━━━━━━━━━━━━━━━━━\u001b[0m\u001b[37m\u001b[0m \u001b[1m1s\u001b[0m 2ms/step - accuracy: 0.7692 - loss: 1.8106 - val_accuracy: 0.7775 - val_loss: 1.2479\n",
      "Epoch 2/100\n",
      "\u001b[1m200/200\u001b[0m \u001b[32m━━━━━━━━━━━━━━━━━━━━\u001b[0m\u001b[37m\u001b[0m \u001b[1m0s\u001b[0m 1ms/step - accuracy: 0.7514 - loss: 1.2483 - val_accuracy: 0.7700 - val_loss: 0.8702\n",
      "Epoch 3/100\n",
      "\u001b[1m200/200\u001b[0m \u001b[32m━━━━━━━━━━━━━━━━━━━━\u001b[0m\u001b[37m\u001b[0m \u001b[1m0s\u001b[0m 1ms/step - accuracy: 0.7664 - loss: 0.8990 - val_accuracy: 0.7750 - val_loss: 0.6878\n",
      "Epoch 4/100\n",
      "\u001b[1m200/200\u001b[0m \u001b[32m━━━━━━━━━━━━━━━━━━━━\u001b[0m\u001b[37m\u001b[0m \u001b[1m0s\u001b[0m 1ms/step - accuracy: 0.7720 - loss: 0.7183 - val_accuracy: 0.7819 - val_loss: 0.5949\n",
      "Epoch 5/100\n",
      "\u001b[1m200/200\u001b[0m \u001b[32m━━━━━━━━━━━━━━━━━━━━\u001b[0m\u001b[37m\u001b[0m \u001b[1m0s\u001b[0m 1ms/step - accuracy: 0.7695 - loss: 0.6031 - val_accuracy: 0.7706 - val_loss: 0.5575\n",
      "Epoch 6/100\n",
      "\u001b[1m200/200\u001b[0m \u001b[32m━━━━━━━━━━━━━━━━━━━━\u001b[0m\u001b[37m\u001b[0m \u001b[1m0s\u001b[0m 1ms/step - accuracy: 0.7661 - loss: 0.5366 - val_accuracy: 0.7781 - val_loss: 0.5434\n",
      "Epoch 7/100\n",
      "\u001b[1m200/200\u001b[0m \u001b[32m━━━━━━━━━━━━━━━━━━━━\u001b[0m\u001b[37m\u001b[0m \u001b[1m0s\u001b[0m 1ms/step - accuracy: 0.7845 - loss: 0.5271 - val_accuracy: 0.7912 - val_loss: 0.5529\n",
      "Epoch 8/100\n",
      "\u001b[1m200/200\u001b[0m \u001b[32m━━━━━━━━━━━━━━━━━━━━\u001b[0m\u001b[37m\u001b[0m \u001b[1m0s\u001b[0m 1ms/step - accuracy: 0.7859 - loss: 0.5536 - val_accuracy: 0.7750 - val_loss: 0.5087\n",
      "Epoch 9/100\n",
      "\u001b[1m200/200\u001b[0m \u001b[32m━━━━━━━━━━━━━━━━━━━━\u001b[0m\u001b[37m\u001b[0m \u001b[1m0s\u001b[0m 2ms/step - accuracy: 0.7886 - loss: 0.5038 - val_accuracy: 0.8031 - val_loss: 0.5444\n",
      "Epoch 10/100\n",
      "\u001b[1m200/200\u001b[0m \u001b[32m━━━━━━━━━━━━━━━━━━━━\u001b[0m\u001b[37m\u001b[0m \u001b[1m0s\u001b[0m 2ms/step - accuracy: 0.7715 - loss: 0.5618 - val_accuracy: 0.7981 - val_loss: 0.5433\n",
      "Epoch 11/100\n",
      "\u001b[1m200/200\u001b[0m \u001b[32m━━━━━━━━━━━━━━━━━━━━\u001b[0m\u001b[37m\u001b[0m \u001b[1m0s\u001b[0m 2ms/step - accuracy: 0.7825 - loss: 0.5295 - val_accuracy: 0.7831 - val_loss: 0.5297\n",
      "Epoch 12/100\n",
      "\u001b[1m200/200\u001b[0m \u001b[32m━━━━━━━━━━━━━━━━━━━━\u001b[0m\u001b[37m\u001b[0m \u001b[1m0s\u001b[0m 2ms/step - accuracy: 0.7944 - loss: 0.5076 - val_accuracy: 0.8056 - val_loss: 0.4985\n",
      "Epoch 13/100\n",
      "\u001b[1m200/200\u001b[0m \u001b[32m━━━━━━━━━━━━━━━━━━━━\u001b[0m\u001b[37m\u001b[0m \u001b[1m0s\u001b[0m 2ms/step - accuracy: 0.8009 - loss: 0.4879 - val_accuracy: 0.8000 - val_loss: 0.4840\n",
      "Epoch 14/100\n",
      "\u001b[1m200/200\u001b[0m \u001b[32m━━━━━━━━━━━━━━━━━━━━\u001b[0m\u001b[37m\u001b[0m \u001b[1m0s\u001b[0m 2ms/step - accuracy: 0.7946 - loss: 0.4993 - val_accuracy: 0.8062 - val_loss: 0.4943\n",
      "Epoch 15/100\n",
      "\u001b[1m200/200\u001b[0m \u001b[32m━━━━━━━━━━━━━━━━━━━━\u001b[0m\u001b[37m\u001b[0m \u001b[1m0s\u001b[0m 2ms/step - accuracy: 0.8098 - loss: 0.4619 - val_accuracy: 0.8025 - val_loss: 0.4600\n",
      "Epoch 16/100\n",
      "\u001b[1m200/200\u001b[0m \u001b[32m━━━━━━━━━━━━━━━━━━━━\u001b[0m\u001b[37m\u001b[0m \u001b[1m0s\u001b[0m 2ms/step - accuracy: 0.8046 - loss: 0.4836 - val_accuracy: 0.8100 - val_loss: 0.4927\n",
      "Epoch 17/100\n",
      "\u001b[1m200/200\u001b[0m \u001b[32m━━━━━━━━━━━━━━━━━━━━\u001b[0m\u001b[37m\u001b[0m \u001b[1m0s\u001b[0m 2ms/step - accuracy: 0.8147 - loss: 0.4774 - val_accuracy: 0.8087 - val_loss: 0.4866\n",
      "Epoch 18/100\n",
      "\u001b[1m200/200\u001b[0m \u001b[32m━━━━━━━━━━━━━━━━━━━━\u001b[0m\u001b[37m\u001b[0m \u001b[1m0s\u001b[0m 1ms/step - accuracy: 0.8171 - loss: 0.4521 - val_accuracy: 0.8100 - val_loss: 0.4547\n",
      "Epoch 19/100\n",
      "\u001b[1m200/200\u001b[0m \u001b[32m━━━━━━━━━━━━━━━━━━━━\u001b[0m\u001b[37m\u001b[0m \u001b[1m0s\u001b[0m 2ms/step - accuracy: 0.8181 - loss: 0.4565 - val_accuracy: 0.8087 - val_loss: 0.4673\n",
      "Epoch 20/100\n",
      "\u001b[1m200/200\u001b[0m \u001b[32m━━━━━━━━━━━━━━━━━━━━\u001b[0m\u001b[37m\u001b[0m \u001b[1m0s\u001b[0m 1ms/step - accuracy: 0.8147 - loss: 0.4615 - val_accuracy: 0.8094 - val_loss: 0.4718\n",
      "Epoch 21/100\n",
      "\u001b[1m200/200\u001b[0m \u001b[32m━━━━━━━━━━━━━━━━━━━━\u001b[0m\u001b[37m\u001b[0m \u001b[1m0s\u001b[0m 2ms/step - accuracy: 0.7999 - loss: 0.4607 - val_accuracy: 0.8125 - val_loss: 0.4740\n",
      "Epoch 22/100\n",
      "\u001b[1m200/200\u001b[0m \u001b[32m━━━━━━━━━━━━━━━━━━━━\u001b[0m\u001b[37m\u001b[0m \u001b[1m0s\u001b[0m 2ms/step - accuracy: 0.8070 - loss: 0.4794 - val_accuracy: 0.8125 - val_loss: 0.4636\n",
      "Epoch 23/100\n",
      "\u001b[1m200/200\u001b[0m \u001b[32m━━━━━━━━━━━━━━━━━━━━\u001b[0m\u001b[37m\u001b[0m \u001b[1m0s\u001b[0m 2ms/step - accuracy: 0.8096 - loss: 0.4708 - val_accuracy: 0.8169 - val_loss: 0.4616\n",
      "Epoch 24/100\n",
      "\u001b[1m200/200\u001b[0m \u001b[32m━━━━━━━━━━━━━━━━━━━━\u001b[0m\u001b[37m\u001b[0m \u001b[1m0s\u001b[0m 1ms/step - accuracy: 0.8178 - loss: 0.4667 - val_accuracy: 0.8169 - val_loss: 0.4711\n",
      "Epoch 25/100\n",
      "\u001b[1m200/200\u001b[0m \u001b[32m━━━━━━━━━━━━━━━━━━━━\u001b[0m\u001b[37m\u001b[0m \u001b[1m0s\u001b[0m 2ms/step - accuracy: 0.8190 - loss: 0.4569 - val_accuracy: 0.8156 - val_loss: 0.4652\n",
      "Epoch 26/100\n",
      "\u001b[1m200/200\u001b[0m \u001b[32m━━━━━━━━━━━━━━━━━━━━\u001b[0m\u001b[37m\u001b[0m \u001b[1m0s\u001b[0m 1ms/step - accuracy: 0.8183 - loss: 0.4561 - val_accuracy: 0.8156 - val_loss: 0.4632\n",
      "Epoch 27/100\n",
      "\u001b[1m200/200\u001b[0m \u001b[32m━━━━━━━━━━━━━━━━━━━━\u001b[0m\u001b[37m\u001b[0m \u001b[1m0s\u001b[0m 1ms/step - accuracy: 0.8163 - loss: 0.4558 - val_accuracy: 0.8188 - val_loss: 0.4688\n",
      "Epoch 28/100\n",
      "\u001b[1m200/200\u001b[0m \u001b[32m━━━━━━━━━━━━━━━━━━━━\u001b[0m\u001b[37m\u001b[0m \u001b[1m0s\u001b[0m 1ms/step - accuracy: 0.8195 - loss: 0.4588 - val_accuracy: 0.8225 - val_loss: 0.4642\n",
      "Epoch 29/100\n",
      "\u001b[1m200/200\u001b[0m \u001b[32m━━━━━━━━━━━━━━━━━━━━\u001b[0m\u001b[37m\u001b[0m \u001b[1m0s\u001b[0m 1ms/step - accuracy: 0.8122 - loss: 0.4606 - val_accuracy: 0.8200 - val_loss: 0.4847\n",
      "Epoch 30/100\n",
      "\u001b[1m200/200\u001b[0m \u001b[32m━━━━━━━━━━━━━━━━━━━━\u001b[0m\u001b[37m\u001b[0m \u001b[1m0s\u001b[0m 1ms/step - accuracy: 0.8232 - loss: 0.4662 - val_accuracy: 0.8150 - val_loss: 0.4677\n",
      "Epoch 31/100\n",
      "\u001b[1m200/200\u001b[0m \u001b[32m━━━━━━━━━━━━━━━━━━━━\u001b[0m\u001b[37m\u001b[0m \u001b[1m0s\u001b[0m 1ms/step - accuracy: 0.8074 - loss: 0.4476 - val_accuracy: 0.8194 - val_loss: 0.4931\n",
      "Epoch 32/100\n",
      "\u001b[1m200/200\u001b[0m \u001b[32m━━━━━━━━━━━━━━━━━━━━\u001b[0m\u001b[37m\u001b[0m \u001b[1m0s\u001b[0m 1ms/step - accuracy: 0.8138 - loss: 0.4420 - val_accuracy: 0.8206 - val_loss: 0.4767\n",
      "Epoch 33/100\n",
      "\u001b[1m200/200\u001b[0m \u001b[32m━━━━━━━━━━━━━━━━━━━━\u001b[0m\u001b[37m\u001b[0m \u001b[1m0s\u001b[0m 2ms/step - accuracy: 0.8160 - loss: 0.4504 - val_accuracy: 0.8194 - val_loss: 0.4778\n",
      "Epoch 34/100\n",
      "\u001b[1m200/200\u001b[0m \u001b[32m━━━━━━━━━━━━━━━━━━━━\u001b[0m\u001b[37m\u001b[0m \u001b[1m0s\u001b[0m 1ms/step - accuracy: 0.8181 - loss: 0.4410 - val_accuracy: 0.8225 - val_loss: 0.4796\n",
      "Epoch 35/100\n",
      "\u001b[1m200/200\u001b[0m \u001b[32m━━━━━━━━━━━━━━━━━━━━\u001b[0m\u001b[37m\u001b[0m \u001b[1m0s\u001b[0m 1ms/step - accuracy: 0.8099 - loss: 0.4470 - val_accuracy: 0.8231 - val_loss: 0.4757\n",
      "Epoch 36/100\n",
      "\u001b[1m200/200\u001b[0m \u001b[32m━━━━━━━━━━━━━━━━━━━━\u001b[0m\u001b[37m\u001b[0m \u001b[1m0s\u001b[0m 1ms/step - accuracy: 0.8129 - loss: 0.4517 - val_accuracy: 0.8100 - val_loss: 0.4559\n",
      "Epoch 37/100\n",
      "\u001b[1m200/200\u001b[0m \u001b[32m━━━━━━━━━━━━━━━━━━━━\u001b[0m\u001b[37m\u001b[0m \u001b[1m0s\u001b[0m 1ms/step - accuracy: 0.8166 - loss: 0.4282 - val_accuracy: 0.8181 - val_loss: 0.4471\n",
      "Epoch 38/100\n",
      "\u001b[1m200/200\u001b[0m \u001b[32m━━━━━━━━━━━━━━━━━━━━\u001b[0m\u001b[37m\u001b[0m \u001b[1m0s\u001b[0m 1ms/step - accuracy: 0.8215 - loss: 0.4246 - val_accuracy: 0.8206 - val_loss: 0.4471\n",
      "Epoch 39/100\n",
      "\u001b[1m200/200\u001b[0m \u001b[32m━━━━━━━━━━━━━━━━━━━━\u001b[0m\u001b[37m\u001b[0m \u001b[1m0s\u001b[0m 1ms/step - accuracy: 0.8226 - loss: 0.4175 - val_accuracy: 0.8231 - val_loss: 0.4716\n",
      "Epoch 40/100\n",
      "\u001b[1m200/200\u001b[0m \u001b[32m━━━━━━━━━━━━━━━━━━━━\u001b[0m\u001b[37m\u001b[0m \u001b[1m0s\u001b[0m 1ms/step - accuracy: 0.8235 - loss: 0.4124 - val_accuracy: 0.8244 - val_loss: 0.4461\n",
      "Epoch 41/100\n",
      "\u001b[1m200/200\u001b[0m \u001b[32m━━━━━━━━━━━━━━━━━━━━\u001b[0m\u001b[37m\u001b[0m \u001b[1m0s\u001b[0m 1ms/step - accuracy: 0.8177 - loss: 0.4248 - val_accuracy: 0.8256 - val_loss: 0.4734\n",
      "Epoch 42/100\n",
      "\u001b[1m200/200\u001b[0m \u001b[32m━━━━━━━━━━━━━━━━━━━━\u001b[0m\u001b[37m\u001b[0m \u001b[1m0s\u001b[0m 1ms/step - accuracy: 0.8250 - loss: 0.4237 - val_accuracy: 0.8250 - val_loss: 0.4552\n",
      "Epoch 43/100\n",
      "\u001b[1m200/200\u001b[0m \u001b[32m━━━━━━━━━━━━━━━━━━━━\u001b[0m\u001b[37m\u001b[0m \u001b[1m0s\u001b[0m 2ms/step - accuracy: 0.8219 - loss: 0.4341 - val_accuracy: 0.8250 - val_loss: 0.4660\n",
      "Epoch 44/100\n",
      "\u001b[1m200/200\u001b[0m \u001b[32m━━━━━━━━━━━━━━━━━━━━\u001b[0m\u001b[37m\u001b[0m \u001b[1m0s\u001b[0m 2ms/step - accuracy: 0.8221 - loss: 0.4263 - val_accuracy: 0.8238 - val_loss: 0.4621\n",
      "Epoch 45/100\n",
      "\u001b[1m200/200\u001b[0m \u001b[32m━━━━━━━━━━━━━━━━━━━━\u001b[0m\u001b[37m\u001b[0m \u001b[1m0s\u001b[0m 1ms/step - accuracy: 0.8268 - loss: 0.4116 - val_accuracy: 0.8269 - val_loss: 0.4639\n",
      "Epoch 46/100\n",
      "\u001b[1m200/200\u001b[0m \u001b[32m━━━━━━━━━━━━━━━━━━━━\u001b[0m\u001b[37m\u001b[0m \u001b[1m0s\u001b[0m 1ms/step - accuracy: 0.8306 - loss: 0.4156 - val_accuracy: 0.8281 - val_loss: 0.4697\n",
      "Epoch 47/100\n",
      "\u001b[1m200/200\u001b[0m \u001b[32m━━━━━━━━━━━━━━━━━━━━\u001b[0m\u001b[37m\u001b[0m \u001b[1m0s\u001b[0m 1ms/step - accuracy: 0.8321 - loss: 0.3854 - val_accuracy: 0.8288 - val_loss: 0.4464\n",
      "Epoch 48/100\n",
      "\u001b[1m200/200\u001b[0m \u001b[32m━━━━━━━━━━━━━━━━━━━━\u001b[0m\u001b[37m\u001b[0m \u001b[1m0s\u001b[0m 2ms/step - accuracy: 0.8257 - loss: 0.4008 - val_accuracy: 0.8325 - val_loss: 0.4321\n",
      "Epoch 49/100\n",
      "\u001b[1m200/200\u001b[0m \u001b[32m━━━━━━━━━━━━━━━━━━━━\u001b[0m\u001b[37m\u001b[0m \u001b[1m0s\u001b[0m 1ms/step - accuracy: 0.8264 - loss: 0.4143 - val_accuracy: 0.8238 - val_loss: 0.4931\n",
      "Epoch 50/100\n",
      "\u001b[1m200/200\u001b[0m \u001b[32m━━━━━━━━━━━━━━━━━━━━\u001b[0m\u001b[37m\u001b[0m \u001b[1m0s\u001b[0m 1ms/step - accuracy: 0.8334 - loss: 0.4099 - val_accuracy: 0.8313 - val_loss: 0.4379\n",
      "Epoch 51/100\n"
     ]
    },
    {
     "name": "stdout",
     "output_type": "stream",
     "text": [
      "\u001b[1m200/200\u001b[0m \u001b[32m━━━━━━━━━━━━━━━━━━━━\u001b[0m\u001b[37m\u001b[0m \u001b[1m0s\u001b[0m 1ms/step - accuracy: 0.8334 - loss: 0.3898 - val_accuracy: 0.8288 - val_loss: 0.4284\n",
      "Epoch 52/100\n",
      "\u001b[1m200/200\u001b[0m \u001b[32m━━━━━━━━━━━━━━━━━━━━\u001b[0m\u001b[37m\u001b[0m \u001b[1m0s\u001b[0m 2ms/step - accuracy: 0.8223 - loss: 0.4227 - val_accuracy: 0.8244 - val_loss: 0.4567\n",
      "Epoch 53/100\n",
      "\u001b[1m200/200\u001b[0m \u001b[32m━━━━━━━━━━━━━━━━━━━━\u001b[0m\u001b[37m\u001b[0m \u001b[1m0s\u001b[0m 1ms/step - accuracy: 0.8359 - loss: 0.4233 - val_accuracy: 0.8306 - val_loss: 0.4225\n",
      "Epoch 54/100\n",
      "\u001b[1m200/200\u001b[0m \u001b[32m━━━━━━━━━━━━━━━━━━━━\u001b[0m\u001b[37m\u001b[0m \u001b[1m0s\u001b[0m 2ms/step - accuracy: 0.8323 - loss: 0.3965 - val_accuracy: 0.8300 - val_loss: 0.4269\n",
      "Epoch 55/100\n",
      "\u001b[1m200/200\u001b[0m \u001b[32m━━━━━━━━━━━━━━━━━━━━\u001b[0m\u001b[37m\u001b[0m \u001b[1m0s\u001b[0m 1ms/step - accuracy: 0.8406 - loss: 0.3747 - val_accuracy: 0.8306 - val_loss: 0.4253\n",
      "Epoch 56/100\n",
      "\u001b[1m200/200\u001b[0m \u001b[32m━━━━━━━━━━━━━━━━━━━━\u001b[0m\u001b[37m\u001b[0m \u001b[1m0s\u001b[0m 2ms/step - accuracy: 0.8444 - loss: 0.3614 - val_accuracy: 0.8344 - val_loss: 0.4345\n",
      "Epoch 57/100\n",
      "\u001b[1m200/200\u001b[0m \u001b[32m━━━━━━━━━━━━━━━━━━━━\u001b[0m\u001b[37m\u001b[0m \u001b[1m0s\u001b[0m 2ms/step - accuracy: 0.8400 - loss: 0.3859 - val_accuracy: 0.8344 - val_loss: 0.4564\n",
      "Epoch 58/100\n",
      "\u001b[1m200/200\u001b[0m \u001b[32m━━━━━━━━━━━━━━━━━━━━\u001b[0m\u001b[37m\u001b[0m \u001b[1m0s\u001b[0m 1ms/step - accuracy: 0.8384 - loss: 0.3765 - val_accuracy: 0.8369 - val_loss: 0.4378\n",
      "Epoch 59/100\n",
      "\u001b[1m200/200\u001b[0m \u001b[32m━━━━━━━━━━━━━━━━━━━━\u001b[0m\u001b[37m\u001b[0m \u001b[1m0s\u001b[0m 1ms/step - accuracy: 0.8357 - loss: 0.3706 - val_accuracy: 0.8381 - val_loss: 0.4374\n",
      "Epoch 60/100\n",
      "\u001b[1m200/200\u001b[0m \u001b[32m━━━━━━━━━━━━━━━━━━━━\u001b[0m\u001b[37m\u001b[0m \u001b[1m0s\u001b[0m 1ms/step - accuracy: 0.8411 - loss: 0.3674 - val_accuracy: 0.8425 - val_loss: 0.4458\n",
      "Epoch 61/100\n",
      "\u001b[1m200/200\u001b[0m \u001b[32m━━━━━━━━━━━━━━━━━━━━\u001b[0m\u001b[37m\u001b[0m \u001b[1m0s\u001b[0m 2ms/step - accuracy: 0.8410 - loss: 0.3889 - val_accuracy: 0.8394 - val_loss: 0.4111\n",
      "Epoch 62/100\n",
      "\u001b[1m200/200\u001b[0m \u001b[32m━━━━━━━━━━━━━━━━━━━━\u001b[0m\u001b[37m\u001b[0m \u001b[1m0s\u001b[0m 2ms/step - accuracy: 0.8491 - loss: 0.3511 - val_accuracy: 0.8388 - val_loss: 0.4161\n",
      "Epoch 63/100\n",
      "\u001b[1m200/200\u001b[0m \u001b[32m━━━━━━━━━━━━━━━━━━━━\u001b[0m\u001b[37m\u001b[0m \u001b[1m0s\u001b[0m 2ms/step - accuracy: 0.8463 - loss: 0.3595 - val_accuracy: 0.8388 - val_loss: 0.4287\n",
      "Epoch 64/100\n",
      "\u001b[1m200/200\u001b[0m \u001b[32m━━━━━━━━━━━━━━━━━━━━\u001b[0m\u001b[37m\u001b[0m \u001b[1m0s\u001b[0m 2ms/step - accuracy: 0.8512 - loss: 0.3528 - val_accuracy: 0.8381 - val_loss: 0.4559\n",
      "Epoch 65/100\n",
      "\u001b[1m200/200\u001b[0m \u001b[32m━━━━━━━━━━━━━━━━━━━━\u001b[0m\u001b[37m\u001b[0m \u001b[1m0s\u001b[0m 2ms/step - accuracy: 0.8517 - loss: 0.3590 - val_accuracy: 0.8425 - val_loss: 0.4474\n",
      "Epoch 66/100\n",
      "\u001b[1m200/200\u001b[0m \u001b[32m━━━━━━━━━━━━━━━━━━━━\u001b[0m\u001b[37m\u001b[0m \u001b[1m0s\u001b[0m 2ms/step - accuracy: 0.8412 - loss: 0.3739 - val_accuracy: 0.8400 - val_loss: 0.4334\n",
      "Epoch 67/100\n",
      "\u001b[1m200/200\u001b[0m \u001b[32m━━━━━━━━━━━━━━━━━━━━\u001b[0m\u001b[37m\u001b[0m \u001b[1m0s\u001b[0m 2ms/step - accuracy: 0.8537 - loss: 0.3475 - val_accuracy: 0.8438 - val_loss: 0.4337\n",
      "Epoch 68/100\n",
      "\u001b[1m200/200\u001b[0m \u001b[32m━━━━━━━━━━━━━━━━━━━━\u001b[0m\u001b[37m\u001b[0m \u001b[1m0s\u001b[0m 2ms/step - accuracy: 0.8445 - loss: 0.3661 - val_accuracy: 0.8431 - val_loss: 0.4077\n",
      "Epoch 69/100\n",
      "\u001b[1m200/200\u001b[0m \u001b[32m━━━━━━━━━━━━━━━━━━━━\u001b[0m\u001b[37m\u001b[0m \u001b[1m0s\u001b[0m 1ms/step - accuracy: 0.8530 - loss: 0.3400 - val_accuracy: 0.8425 - val_loss: 0.4025\n",
      "Epoch 70/100\n",
      "\u001b[1m200/200\u001b[0m \u001b[32m━━━━━━━━━━━━━━━━━━━━\u001b[0m\u001b[37m\u001b[0m \u001b[1m0s\u001b[0m 1ms/step - accuracy: 0.8519 - loss: 0.3511 - val_accuracy: 0.8413 - val_loss: 0.4079\n",
      "Epoch 71/100\n",
      "\u001b[1m200/200\u001b[0m \u001b[32m━━━━━━━━━━━━━━━━━━━━\u001b[0m\u001b[37m\u001b[0m \u001b[1m0s\u001b[0m 1ms/step - accuracy: 0.8533 - loss: 0.3424 - val_accuracy: 0.8431 - val_loss: 0.4274\n",
      "Epoch 72/100\n",
      "\u001b[1m200/200\u001b[0m \u001b[32m━━━━━━━━━━━━━━━━━━━━\u001b[0m\u001b[37m\u001b[0m \u001b[1m0s\u001b[0m 1ms/step - accuracy: 0.8412 - loss: 0.3620 - val_accuracy: 0.8506 - val_loss: 0.4405\n",
      "Epoch 73/100\n",
      "\u001b[1m200/200\u001b[0m \u001b[32m━━━━━━━━━━━━━━━━━━━━\u001b[0m\u001b[37m\u001b[0m \u001b[1m0s\u001b[0m 1ms/step - accuracy: 0.8410 - loss: 0.3646 - val_accuracy: 0.8375 - val_loss: 0.3880\n",
      "Epoch 74/100\n",
      "\u001b[1m200/200\u001b[0m \u001b[32m━━━━━━━━━━━━━━━━━━━━\u001b[0m\u001b[37m\u001b[0m \u001b[1m0s\u001b[0m 1ms/step - accuracy: 0.8508 - loss: 0.3478 - val_accuracy: 0.8462 - val_loss: 0.4355\n",
      "Epoch 75/100\n",
      "\u001b[1m200/200\u001b[0m \u001b[32m━━━━━━━━━━━━━━━━━━━━\u001b[0m\u001b[37m\u001b[0m \u001b[1m0s\u001b[0m 1ms/step - accuracy: 0.8578 - loss: 0.3312 - val_accuracy: 0.8462 - val_loss: 0.4179\n",
      "Epoch 76/100\n",
      "\u001b[1m200/200\u001b[0m \u001b[32m━━━━━━━━━━━━━━━━━━━━\u001b[0m\u001b[37m\u001b[0m \u001b[1m0s\u001b[0m 1ms/step - accuracy: 0.8504 - loss: 0.3505 - val_accuracy: 0.8450 - val_loss: 0.4410\n",
      "Epoch 77/100\n",
      "\u001b[1m200/200\u001b[0m \u001b[32m━━━━━━━━━━━━━━━━━━━━\u001b[0m\u001b[37m\u001b[0m \u001b[1m0s\u001b[0m 1ms/step - accuracy: 0.8600 - loss: 0.3305 - val_accuracy: 0.8462 - val_loss: 0.4276\n",
      "Epoch 78/100\n",
      "\u001b[1m200/200\u001b[0m \u001b[32m━━━━━━━━━━━━━━━━━━━━\u001b[0m\u001b[37m\u001b[0m \u001b[1m0s\u001b[0m 1ms/step - accuracy: 0.8584 - loss: 0.3328 - val_accuracy: 0.8438 - val_loss: 0.4300\n",
      "Epoch 79/100\n",
      "\u001b[1m200/200\u001b[0m \u001b[32m━━━━━━━━━━━━━━━━━━━━\u001b[0m\u001b[37m\u001b[0m \u001b[1m0s\u001b[0m 1ms/step - accuracy: 0.8567 - loss: 0.3404 - val_accuracy: 0.8456 - val_loss: 0.4586\n",
      "Epoch 80/100\n",
      "\u001b[1m200/200\u001b[0m \u001b[32m━━━━━━━━━━━━━━━━━━━━\u001b[0m\u001b[37m\u001b[0m \u001b[1m0s\u001b[0m 1ms/step - accuracy: 0.8471 - loss: 0.3708 - val_accuracy: 0.8456 - val_loss: 0.4282\n",
      "Epoch 81/100\n",
      "\u001b[1m200/200\u001b[0m \u001b[32m━━━━━━━━━━━━━━━━━━━━\u001b[0m\u001b[37m\u001b[0m \u001b[1m0s\u001b[0m 1ms/step - accuracy: 0.8435 - loss: 0.3502 - val_accuracy: 0.8363 - val_loss: 0.4035\n",
      "Epoch 82/100\n",
      "\u001b[1m200/200\u001b[0m \u001b[32m━━━━━━━━━━━━━━━━━━━━\u001b[0m\u001b[37m\u001b[0m \u001b[1m0s\u001b[0m 1ms/step - accuracy: 0.8475 - loss: 0.3510 - val_accuracy: 0.8481 - val_loss: 0.4072\n",
      "Epoch 83/100\n",
      "\u001b[1m200/200\u001b[0m \u001b[32m━━━━━━━━━━━━━━━━━━━━\u001b[0m\u001b[37m\u001b[0m \u001b[1m0s\u001b[0m 1ms/step - accuracy: 0.8496 - loss: 0.3431 - val_accuracy: 0.8494 - val_loss: 0.4141\n",
      "Epoch 84/100\n",
      "\u001b[1m200/200\u001b[0m \u001b[32m━━━━━━━━━━━━━━━━━━━━\u001b[0m\u001b[37m\u001b[0m \u001b[1m0s\u001b[0m 1ms/step - accuracy: 0.8618 - loss: 0.3222 - val_accuracy: 0.8512 - val_loss: 0.4130\n",
      "Epoch 85/100\n",
      "\u001b[1m200/200\u001b[0m \u001b[32m━━━━━━━━━━━━━━━━━━━━\u001b[0m\u001b[37m\u001b[0m \u001b[1m0s\u001b[0m 1ms/step - accuracy: 0.8460 - loss: 0.3456 - val_accuracy: 0.8500 - val_loss: 0.4194\n",
      "Epoch 86/100\n",
      "\u001b[1m200/200\u001b[0m \u001b[32m━━━━━━━━━━━━━━━━━━━━\u001b[0m\u001b[37m\u001b[0m \u001b[1m0s\u001b[0m 1ms/step - accuracy: 0.8450 - loss: 0.3533 - val_accuracy: 0.8500 - val_loss: 0.4135\n",
      "Epoch 87/100\n",
      "\u001b[1m200/200\u001b[0m \u001b[32m━━━━━━━━━━━━━━━━━━━━\u001b[0m\u001b[37m\u001b[0m \u001b[1m0s\u001b[0m 1ms/step - accuracy: 0.8466 - loss: 0.3581 - val_accuracy: 0.8544 - val_loss: 0.4193\n",
      "Epoch 88/100\n",
      "\u001b[1m200/200\u001b[0m \u001b[32m━━━━━━━━━━━━━━━━━━━━\u001b[0m\u001b[37m\u001b[0m \u001b[1m0s\u001b[0m 1ms/step - accuracy: 0.8458 - loss: 0.3646 - val_accuracy: 0.8469 - val_loss: 0.4285\n",
      "Epoch 89/100\n",
      "\u001b[1m200/200\u001b[0m \u001b[32m━━━━━━━━━━━━━━━━━━━━\u001b[0m\u001b[37m\u001b[0m \u001b[1m0s\u001b[0m 1ms/step - accuracy: 0.8431 - loss: 0.3676 - val_accuracy: 0.8512 - val_loss: 0.4423\n",
      "Epoch 90/100\n",
      "\u001b[1m200/200\u001b[0m \u001b[32m━━━━━━━━━━━━━━━━━━━━\u001b[0m\u001b[37m\u001b[0m \u001b[1m0s\u001b[0m 1ms/step - accuracy: 0.8574 - loss: 0.3544 - val_accuracy: 0.8462 - val_loss: 0.4418\n",
      "Epoch 91/100\n",
      "\u001b[1m200/200\u001b[0m \u001b[32m━━━━━━━━━━━━━━━━━━━━\u001b[0m\u001b[37m\u001b[0m \u001b[1m0s\u001b[0m 1ms/step - accuracy: 0.8553 - loss: 0.3365 - val_accuracy: 0.8512 - val_loss: 0.4682\n",
      "Epoch 92/100\n",
      "\u001b[1m200/200\u001b[0m \u001b[32m━━━━━━━━━━━━━━━━━━━━\u001b[0m\u001b[37m\u001b[0m \u001b[1m0s\u001b[0m 1ms/step - accuracy: 0.8451 - loss: 0.3939 - val_accuracy: 0.8500 - val_loss: 0.4185\n",
      "Epoch 93/100\n",
      "\u001b[1m200/200\u001b[0m \u001b[32m━━━━━━━━━━━━━━━━━━━━\u001b[0m\u001b[37m\u001b[0m \u001b[1m0s\u001b[0m 1ms/step - accuracy: 0.8553 - loss: 0.3349 - val_accuracy: 0.8512 - val_loss: 0.4391\n",
      "Epoch 94/100\n",
      "\u001b[1m200/200\u001b[0m \u001b[32m━━━━━━━━━━━━━━━━━━━━\u001b[0m\u001b[37m\u001b[0m \u001b[1m0s\u001b[0m 1ms/step - accuracy: 0.8552 - loss: 0.3462 - val_accuracy: 0.8512 - val_loss: 0.4257\n",
      "Epoch 95/100\n",
      "\u001b[1m200/200\u001b[0m \u001b[32m━━━━━━━━━━━━━━━━━━━━\u001b[0m\u001b[37m\u001b[0m \u001b[1m0s\u001b[0m 1ms/step - accuracy: 0.8536 - loss: 0.3590 - val_accuracy: 0.8469 - val_loss: 0.3964\n",
      "Epoch 96/100\n",
      "\u001b[1m200/200\u001b[0m \u001b[32m━━━━━━━━━━━━━━━━━━━━\u001b[0m\u001b[37m\u001b[0m \u001b[1m0s\u001b[0m 2ms/step - accuracy: 0.8565 - loss: 0.3540 - val_accuracy: 0.8475 - val_loss: 0.4101\n",
      "Epoch 97/100\n",
      "\u001b[1m200/200\u001b[0m \u001b[32m━━━━━━━━━━━━━━━━━━━━\u001b[0m\u001b[37m\u001b[0m \u001b[1m0s\u001b[0m 1ms/step - accuracy: 0.8503 - loss: 0.3434 - val_accuracy: 0.8406 - val_loss: 0.3993\n",
      "Epoch 98/100\n",
      "\u001b[1m200/200\u001b[0m \u001b[32m━━━━━━━━━━━━━━━━━━━━\u001b[0m\u001b[37m\u001b[0m \u001b[1m0s\u001b[0m 1ms/step - accuracy: 0.8486 - loss: 0.3515 - val_accuracy: 0.8519 - val_loss: 0.4344\n",
      "Epoch 99/100\n",
      "\u001b[1m200/200\u001b[0m \u001b[32m━━━━━━━━━━━━━━━━━━━━\u001b[0m\u001b[37m\u001b[0m \u001b[1m0s\u001b[0m 1ms/step - accuracy: 0.8531 - loss: 0.3427 - val_accuracy: 0.8506 - val_loss: 0.4233\n",
      "Epoch 100/100\n",
      "\u001b[1m200/200\u001b[0m \u001b[32m━━━━━━━━━━━━━━━━━━━━\u001b[0m\u001b[37m\u001b[0m \u001b[1m0s\u001b[0m 1ms/step - accuracy: 0.8518 - loss: 0.3402 - val_accuracy: 0.8537 - val_loss: 0.4286\n"
     ]
    }
   ],
   "source": [
    "history = model.fit(X_train_scaled,y_train, epochs = 100, validation_split = 0.2)"
   ]
  },
  {
   "cell_type": "code",
   "execution_count": 48,
   "id": "71635c59",
   "metadata": {},
   "outputs": [
    {
     "data": {
      "text/plain": [
       "[array([[-0.01201864, -0.23350191, -0.2154884 , -0.097471  ,  0.20612495,\n",
       "         -0.07992981, -0.07938927, -0.0731382 ,  0.13994043,  0.03120952,\n",
       "         -0.14750996],\n",
       "        [ 0.13896473, -0.44416252, -0.4085614 , -0.11372221,  0.10042895,\n",
       "          0.29965442, -0.05872241,  0.5551564 , -0.42320353, -0.2586001 ,\n",
       "          0.29852265],\n",
       "        [ 0.07071983,  0.17715971,  0.09025283,  0.17853412,  0.1690379 ,\n",
       "          0.03372917,  0.07116676,  0.18258904, -0.34092006, -0.02429664,\n",
       "         -0.24045974],\n",
       "        [ 0.28295043, -0.11946829, -0.3403461 ,  0.01557517, -0.17267586,\n",
       "         -0.27833673, -0.5796612 , -0.44554156, -0.13927075,  0.20814086,\n",
       "          0.46836618],\n",
       "        [-0.628441  , -0.03845592,  0.0030655 ,  0.577948  ,  0.4042869 ,\n",
       "         -0.4597725 , -0.35224977, -0.2157374 ,  0.37669057,  0.10106775,\n",
       "          0.55388796],\n",
       "        [ 0.38985142, -0.02790345, -0.19239813,  0.02305077, -0.11299358,\n",
       "         -0.2507517 ,  0.0235306 , -0.19722247,  0.12160741, -0.06995007,\n",
       "         -0.03825153],\n",
       "        [-0.7502802 , -0.03236117,  0.13045254,  0.10277696,  0.17305034,\n",
       "         -0.18042697,  0.07911851,  0.45375928, -0.14573205, -0.38544548,\n",
       "         -0.4730653 ],\n",
       "        [ 0.1275599 ,  0.10405307, -0.13169777,  0.01742887, -0.16018453,\n",
       "         -0.12233009,  0.09066083, -0.10089412,  0.24709871, -0.16876605,\n",
       "          0.12285214],\n",
       "        [ 0.41221565,  0.31182966,  0.0498051 ,  0.24934821, -0.23415399,\n",
       "          0.10312236,  0.48385543,  0.13829024,  0.03711689, -0.39658892,\n",
       "         -0.13921732],\n",
       "        [-0.05605472,  0.01455566, -0.37484023, -0.01414763, -0.31629166,\n",
       "          0.06857073,  0.03759332,  0.1924796 , -0.03830169,  0.02564332,\n",
       "          0.24623972],\n",
       "        [-0.08258478,  0.21478057,  0.21685044,  0.01663267, -0.00555974,\n",
       "          0.08340778, -0.00927523,  0.19950807, -0.1708398 ,  0.10952024,\n",
       "         -0.15281677]], dtype=float32),\n",
       " array([ 0.17283422,  0.29235417, -0.29392254, -0.25646335, -0.16095302,\n",
       "        -0.02597724,  0.0719613 , -0.4197245 , -0.03460376, -0.1332305 ,\n",
       "        -0.04623437], dtype=float32)]"
      ]
     },
     "execution_count": 48,
     "metadata": {},
     "output_type": "execute_result"
    }
   ],
   "source": [
    "model.layers[0].get_weights()"
   ]
  },
  {
   "cell_type": "code",
   "execution_count": 49,
   "id": "bc85b76e",
   "metadata": {},
   "outputs": [
    {
     "data": {
      "text/plain": [
       "[array([[ 0.06510385, -0.41449758,  0.2121873 , -0.2471118 ,  0.09078598,\n",
       "         -0.23592561, -0.11419304,  0.12886165, -0.29586828, -0.5161428 ,\n",
       "         -0.2906909 ],\n",
       "        [ 0.2487051 , -0.15649492, -0.3172314 ,  0.0123818 ,  0.19585891,\n",
       "         -0.51368934,  0.3693443 ,  0.14724931,  0.42988884,  0.16453636,\n",
       "          0.03912241],\n",
       "        [ 0.2653333 ,  0.25721887, -0.00806964,  0.07455194,  0.19938701,\n",
       "         -0.25771585,  0.37300053, -0.26863316, -0.15913892,  0.26180026,\n",
       "          0.42931032],\n",
       "        [ 0.2905864 ,  0.28711993, -0.38682   , -0.1418279 ,  0.34424207,\n",
       "          0.46845284, -0.2596774 ,  0.39568368, -0.6674888 , -0.3382769 ,\n",
       "         -0.1037134 ],\n",
       "        [ 0.06798514,  0.3203418 , -0.11510821,  0.01420995,  0.19277117,\n",
       "          0.33586544, -0.34316027,  0.23483309, -0.45801914,  0.15525767,\n",
       "          0.05616515],\n",
       "        [-0.3452651 , -0.0184025 ,  0.59699845, -0.06930712,  0.12374858,\n",
       "         -0.2166822 ,  0.1983162 , -0.46694225,  0.5192857 , -0.47177047,\n",
       "         -0.23738389],\n",
       "        [-0.01457628,  0.3492119 ,  0.5539192 , -0.36554804, -0.2584018 ,\n",
       "         -0.2352866 ,  0.29134262,  0.49641466, -0.14229104, -0.20426641,\n",
       "         -0.2714864 ],\n",
       "        [ 0.19212271, -0.498549  , -0.01109622,  0.21883094,  0.15627798,\n",
       "         -0.4795892 ,  0.24482106,  0.51923215, -0.08874539,  0.15878937,\n",
       "          0.14036444],\n",
       "        [-0.21573459,  0.01015618, -0.306597  ,  0.28576776,  0.31005743,\n",
       "         -0.05886594,  0.04586417, -0.56532335, -0.12583914, -0.17799078,\n",
       "          0.39513353],\n",
       "        [-0.5336772 ,  0.4535125 , -0.42093647,  0.1588551 , -0.01250969,\n",
       "         -0.24995601, -0.13605022, -0.16971698, -0.5586655 ,  0.14106186,\n",
       "          0.44164944],\n",
       "        [ 0.43646586, -0.6172148 ,  0.18855973,  0.12378643, -0.07454897,\n",
       "          0.28524438,  0.29814616,  0.16694884, -0.08755006, -0.3456039 ,\n",
       "          0.17045088]], dtype=float32),\n",
       " array([ 0.02480804, -0.09224831,  0.08832828,  0.10012215, -0.1219354 ,\n",
       "        -0.1178866 , -0.06658762, -0.11900783,  0.11595615, -0.10458199,\n",
       "        -0.0349399 ], dtype=float32)]"
      ]
     },
     "execution_count": 49,
     "metadata": {},
     "output_type": "execute_result"
    }
   ],
   "source": [
    "model.layers[1].get_weights()"
   ]
  },
  {
   "cell_type": "code",
   "execution_count": 50,
   "id": "755d525d",
   "metadata": {},
   "outputs": [
    {
     "data": {
      "text/plain": [
       "[array([[ 0.2527591 ],\n",
       "        [-0.3987411 ],\n",
       "        [ 0.53623664],\n",
       "        [-0.57734853],\n",
       "        [-0.04183054],\n",
       "        [ 0.7714372 ],\n",
       "        [-0.34013543],\n",
       "        [-0.05391119],\n",
       "        [ 0.22822785],\n",
       "        [-0.45555952],\n",
       "        [ 0.53562707]], dtype=float32),\n",
       " array([0.0585284], dtype=float32)]"
      ]
     },
     "execution_count": 50,
     "metadata": {},
     "output_type": "execute_result"
    }
   ],
   "source": [
    "model.layers[2].get_weights()"
   ]
  },
  {
   "cell_type": "code",
   "execution_count": 51,
   "id": "b867fa56",
   "metadata": {},
   "outputs": [
    {
     "name": "stdout",
     "output_type": "stream",
     "text": [
      "\u001b[1m63/63\u001b[0m \u001b[32m━━━━━━━━━━━━━━━━━━━━\u001b[0m\u001b[37m\u001b[0m \u001b[1m0s\u001b[0m 1ms/step  \n"
     ]
    }
   ],
   "source": [
    "y_log = model.predict(X_test_scaled)"
   ]
  },
  {
   "cell_type": "code",
   "execution_count": 52,
   "id": "34a451c7",
   "metadata": {},
   "outputs": [],
   "source": [
    "y_pred = np.where(y_log>0.5,1,0)"
   ]
  },
  {
   "cell_type": "code",
   "execution_count": 53,
   "id": "ca35f325",
   "metadata": {},
   "outputs": [
    {
     "name": "stdout",
     "output_type": "stream",
     "text": [
      "Accuracy Score of the data is:\n",
      "0.851\n"
     ]
    }
   ],
   "source": [
    "from sklearn.metrics import accuracy_score\n",
    "print(\"Accuracy Score of the data is:\")\n",
    "print(accuracy_score(y_test,y_pred))"
   ]
  },
  {
   "cell_type": "code",
   "execution_count": 54,
   "id": "7e98f555",
   "metadata": {},
   "outputs": [
    {
     "data": {
      "text/plain": [
       "{'accuracy': [0.7662500143051147,\n",
       "  0.7582812309265137,\n",
       "  0.7720312476158142,\n",
       "  0.7754687666893005,\n",
       "  0.7651562690734863,\n",
       "  0.7699999809265137,\n",
       "  0.7901562452316284,\n",
       "  0.7912499904632568,\n",
       "  0.7945312261581421,\n",
       "  0.7778124809265137,\n",
       "  0.7774999737739563,\n",
       "  0.7951562404632568,\n",
       "  0.8009374737739563,\n",
       "  0.8026562333106995,\n",
       "  0.8070312738418579,\n",
       "  0.8081250190734863,\n",
       "  0.8095312714576721,\n",
       "  0.8089062571525574,\n",
       "  0.8115624785423279,\n",
       "  0.8125,\n",
       "  0.7940624952316284,\n",
       "  0.8104687333106995,\n",
       "  0.8123437762260437,\n",
       "  0.8129687309265137,\n",
       "  0.8139062523841858,\n",
       "  0.8162500262260437,\n",
       "  0.8076562285423279,\n",
       "  0.8140624761581421,\n",
       "  0.8168749809265137,\n",
       "  0.8170312643051147,\n",
       "  0.8162500262260437,\n",
       "  0.8182812333106995,\n",
       "  0.819531261920929,\n",
       "  0.8174999952316284,\n",
       "  0.8167187571525574,\n",
       "  0.8062499761581421,\n",
       "  0.8142187595367432,\n",
       "  0.8178125023841858,\n",
       "  0.8176562786102295,\n",
       "  0.8189062476158142,\n",
       "  0.8206250071525574,\n",
       "  0.8215625286102295,\n",
       "  0.8224999904632568,\n",
       "  0.824999988079071,\n",
       "  0.8248437643051147,\n",
       "  0.8285937309265137,\n",
       "  0.8285937309265137,\n",
       "  0.8296874761581421,\n",
       "  0.8304687738418579,\n",
       "  0.8296874761581421,\n",
       "  0.8207812309265137,\n",
       "  0.8228124976158142,\n",
       "  0.8287500143051147,\n",
       "  0.831250011920929,\n",
       "  0.8370312452316284,\n",
       "  0.8378124833106995,\n",
       "  0.840624988079071,\n",
       "  0.8412500023841858,\n",
       "  0.8417187333106995,\n",
       "  0.8428124785423279,\n",
       "  0.8450000286102295,\n",
       "  0.8448437452316284,\n",
       "  0.8460937738418579,\n",
       "  0.8481249809265137,\n",
       "  0.8482812643051147,\n",
       "  0.84765625,\n",
       "  0.84765625,\n",
       "  0.8467187285423279,\n",
       "  0.8503124713897705,\n",
       "  0.8485937714576721,\n",
       "  0.8487499952316284,\n",
       "  0.8495312333106995,\n",
       "  0.8489062786102295,\n",
       "  0.8470312356948853,\n",
       "  0.8506249785423279,\n",
       "  0.8493750095367432,\n",
       "  0.8510937690734863,\n",
       "  0.850781261920929,\n",
       "  0.8479687571525574,\n",
       "  0.8503124713897705,\n",
       "  0.8495312333106995,\n",
       "  0.84765625,\n",
       "  0.8517187237739563,\n",
       "  0.8512499928474426,\n",
       "  0.8496875166893005,\n",
       "  0.850781261920929,\n",
       "  0.848437488079071,\n",
       "  0.8517187237739563,\n",
       "  0.8501562476158142,\n",
       "  0.8528125286102295,\n",
       "  0.8510937690734863,\n",
       "  0.8512499928474426,\n",
       "  0.8520312309265137,\n",
       "  0.8534374833106995,\n",
       "  0.8545312285423279,\n",
       "  0.852343738079071,\n",
       "  0.8496875166893005,\n",
       "  0.8501562476158142,\n",
       "  0.8539062738418579,\n",
       "  0.8529687523841858],\n",
       " 'loss': [1.697705864906311,\n",
       "  1.1619713306427002,\n",
       "  0.8557428121566772,\n",
       "  0.664944589138031,\n",
       "  0.6134642958641052,\n",
       "  0.5576885342597961,\n",
       "  0.553835391998291,\n",
       "  0.5350426435470581,\n",
       "  0.5298765301704407,\n",
       "  0.5333911776542664,\n",
       "  0.5310184359550476,\n",
       "  0.5160595178604126,\n",
       "  0.49260449409484863,\n",
       "  0.48704761266708374,\n",
       "  0.47866764664649963,\n",
       "  0.4770415425300598,\n",
       "  0.4735783040523529,\n",
       "  0.46807003021240234,\n",
       "  0.47344112396240234,\n",
       "  0.46568721532821655,\n",
       "  0.477929025888443,\n",
       "  0.4692712426185608,\n",
       "  0.4641849398612976,\n",
       "  0.4610365629196167,\n",
       "  0.45954692363739014,\n",
       "  0.45886459946632385,\n",
       "  0.48024043440818787,\n",
       "  0.4633200764656067,\n",
       "  0.45169124007225037,\n",
       "  0.45038336515426636,\n",
       "  0.4491058588027954,\n",
       "  0.44826507568359375,\n",
       "  0.44493910670280457,\n",
       "  0.4401494264602661,\n",
       "  0.4375961720943451,\n",
       "  0.46308964490890503,\n",
       "  0.4331464469432831,\n",
       "  0.4275650382041931,\n",
       "  0.423516184091568,\n",
       "  0.4240303039550781,\n",
       "  0.42368102073669434,\n",
       "  0.42326173186302185,\n",
       "  0.4186854064464569,\n",
       "  0.41727009415626526,\n",
       "  0.41084524989128113,\n",
       "  0.4097508192062378,\n",
       "  0.4030403792858124,\n",
       "  0.39956215023994446,\n",
       "  0.40971726179122925,\n",
       "  0.40207210183143616,\n",
       "  0.42203620076179504,\n",
       "  0.4291726350784302,\n",
       "  0.4138921797275543,\n",
       "  0.392147034406662,\n",
       "  0.3830835819244385,\n",
       "  0.37777450680732727,\n",
       "  0.3735136389732361,\n",
       "  0.3694039583206177,\n",
       "  0.3668939173221588,\n",
       "  0.3681808114051819,\n",
       "  0.3692640960216522,\n",
       "  0.36582720279693604,\n",
       "  0.363097608089447,\n",
       "  0.3692950904369354,\n",
       "  0.36450332403182983,\n",
       "  0.36099743843078613,\n",
       "  0.35658538341522217,\n",
       "  0.36182624101638794,\n",
       "  0.3518924415111542,\n",
       "  0.3521161675453186,\n",
       "  0.35166117548942566,\n",
       "  0.34809765219688416,\n",
       "  0.35265442728996277,\n",
       "  0.35157662630081177,\n",
       "  0.35381045937538147,\n",
       "  0.35026195645332336,\n",
       "  0.34681737422943115,\n",
       "  0.3478080630302429,\n",
       "  0.3541420102119446,\n",
       "  0.3552118241786957,\n",
       "  0.34843119978904724,\n",
       "  0.34955838322639465,\n",
       "  0.3433181047439575,\n",
       "  0.34207627177238464,\n",
       "  0.33883705735206604,\n",
       "  0.34004127979278564,\n",
       "  0.36931225657463074,\n",
       "  0.3630222678184509,\n",
       "  0.3450549840927124,\n",
       "  0.3482217490673065,\n",
       "  0.35448867082595825,\n",
       "  0.35876381397247314,\n",
       "  0.3468691110610962,\n",
       "  0.3455265462398529,\n",
       "  0.34347298741340637,\n",
       "  0.3493284285068512,\n",
       "  0.3523437976837158,\n",
       "  0.36168134212493896,\n",
       "  0.3432435989379883,\n",
       "  0.3361338675022125],\n",
       " 'val_accuracy': [0.7774999737739563,\n",
       "  0.7699999809265137,\n",
       "  0.7749999761581421,\n",
       "  0.7818750143051147,\n",
       "  0.7706249952316284,\n",
       "  0.778124988079071,\n",
       "  0.7912499904632568,\n",
       "  0.7749999761581421,\n",
       "  0.8031250238418579,\n",
       "  0.7981250286102295,\n",
       "  0.7831249833106995,\n",
       "  0.8056250214576721,\n",
       "  0.800000011920929,\n",
       "  0.8062499761581421,\n",
       "  0.8025000095367432,\n",
       "  0.8100000023841858,\n",
       "  0.8087499737739563,\n",
       "  0.8100000023841858,\n",
       "  0.8087499737739563,\n",
       "  0.809374988079071,\n",
       "  0.8125,\n",
       "  0.8125,\n",
       "  0.8168749809265137,\n",
       "  0.8168749809265137,\n",
       "  0.815625011920929,\n",
       "  0.815625011920929,\n",
       "  0.8187500238418579,\n",
       "  0.8224999904632568,\n",
       "  0.8199999928474426,\n",
       "  0.8149999976158142,\n",
       "  0.8193749785423279,\n",
       "  0.8206250071525574,\n",
       "  0.8193749785423279,\n",
       "  0.8224999904632568,\n",
       "  0.8231250047683716,\n",
       "  0.8100000023841858,\n",
       "  0.8181250095367432,\n",
       "  0.8206250071525574,\n",
       "  0.8231250047683716,\n",
       "  0.8243749737739563,\n",
       "  0.8256250023841858,\n",
       "  0.824999988079071,\n",
       "  0.824999988079071,\n",
       "  0.8237500190734863,\n",
       "  0.8268749713897705,\n",
       "  0.828125,\n",
       "  0.8287500143051147,\n",
       "  0.8324999809265137,\n",
       "  0.8237500190734863,\n",
       "  0.831250011920929,\n",
       "  0.8287500143051147,\n",
       "  0.8243749737739563,\n",
       "  0.8306249976158142,\n",
       "  0.8299999833106995,\n",
       "  0.8306249976158142,\n",
       "  0.8343750238418579,\n",
       "  0.8343750238418579,\n",
       "  0.8368750214576721,\n",
       "  0.8381249904632568,\n",
       "  0.8424999713897705,\n",
       "  0.8393750190734863,\n",
       "  0.8387500047683716,\n",
       "  0.8387500047683716,\n",
       "  0.8381249904632568,\n",
       "  0.8424999713897705,\n",
       "  0.8399999737739563,\n",
       "  0.84375,\n",
       "  0.8431249856948853,\n",
       "  0.8424999713897705,\n",
       "  0.8412500023841858,\n",
       "  0.8431249856948853,\n",
       "  0.8506249785423279,\n",
       "  0.8374999761581421,\n",
       "  0.8462499976158142,\n",
       "  0.8462499976158142,\n",
       "  0.8450000286102295,\n",
       "  0.8462499976158142,\n",
       "  0.84375,\n",
       "  0.8456249833106995,\n",
       "  0.8456249833106995,\n",
       "  0.8362500071525574,\n",
       "  0.8481249809265137,\n",
       "  0.8493750095367432,\n",
       "  0.8512499928474426,\n",
       "  0.8500000238418579,\n",
       "  0.8500000238418579,\n",
       "  0.8543750047683716,\n",
       "  0.846875011920929,\n",
       "  0.8512499928474426,\n",
       "  0.8462499976158142,\n",
       "  0.8512499928474426,\n",
       "  0.8500000238418579,\n",
       "  0.8512499928474426,\n",
       "  0.8512499928474426,\n",
       "  0.846875011920929,\n",
       "  0.8475000262260437,\n",
       "  0.840624988079071,\n",
       "  0.8518750071525574,\n",
       "  0.8506249785423279,\n",
       "  0.8537499904632568],\n",
       " 'val_loss': [1.24787175655365,\n",
       "  0.870191216468811,\n",
       "  0.6878015995025635,\n",
       "  0.594891369342804,\n",
       "  0.5574679970741272,\n",
       "  0.5434257984161377,\n",
       "  0.5528972148895264,\n",
       "  0.5086857080459595,\n",
       "  0.5444234609603882,\n",
       "  0.5433061122894287,\n",
       "  0.529687225818634,\n",
       "  0.49845603108406067,\n",
       "  0.48395225405693054,\n",
       "  0.49430346488952637,\n",
       "  0.45997658371925354,\n",
       "  0.49270087480545044,\n",
       "  0.4865718185901642,\n",
       "  0.45469993352890015,\n",
       "  0.46731531620025635,\n",
       "  0.4718484580516815,\n",
       "  0.47400256991386414,\n",
       "  0.46355709433555603,\n",
       "  0.4615553915500641,\n",
       "  0.47112876176834106,\n",
       "  0.4651523232460022,\n",
       "  0.4632185697555542,\n",
       "  0.46875739097595215,\n",
       "  0.4641779363155365,\n",
       "  0.48471885919570923,\n",
       "  0.46772968769073486,\n",
       "  0.4930977523326874,\n",
       "  0.47672638297080994,\n",
       "  0.4778096675872803,\n",
       "  0.4795531928539276,\n",
       "  0.47566279768943787,\n",
       "  0.45587417483329773,\n",
       "  0.4470862150192261,\n",
       "  0.4470672905445099,\n",
       "  0.4715706706047058,\n",
       "  0.44606563448905945,\n",
       "  0.4733906686306,\n",
       "  0.4551911950111389,\n",
       "  0.4659769833087921,\n",
       "  0.46206924319267273,\n",
       "  0.46393832564353943,\n",
       "  0.46966788172721863,\n",
       "  0.44642379879951477,\n",
       "  0.4320513904094696,\n",
       "  0.4931352138519287,\n",
       "  0.4379415214061737,\n",
       "  0.42840901017189026,\n",
       "  0.4566773474216461,\n",
       "  0.422511488199234,\n",
       "  0.4268793761730194,\n",
       "  0.4252661168575287,\n",
       "  0.43449145555496216,\n",
       "  0.4563700556755066,\n",
       "  0.4377687871456146,\n",
       "  0.43735072016716003,\n",
       "  0.44578316807746887,\n",
       "  0.4110904037952423,\n",
       "  0.4160769283771515,\n",
       "  0.42872318625450134,\n",
       "  0.45592257380485535,\n",
       "  0.44741982221603394,\n",
       "  0.4333561360836029,\n",
       "  0.43369588255882263,\n",
       "  0.407664954662323,\n",
       "  0.40245598554611206,\n",
       "  0.407919704914093,\n",
       "  0.42743223905563354,\n",
       "  0.44048812985420227,\n",
       "  0.3879556953907013,\n",
       "  0.4355030357837677,\n",
       "  0.41788506507873535,\n",
       "  0.44096434116363525,\n",
       "  0.4275721311569214,\n",
       "  0.43002834916114807,\n",
       "  0.45860955119132996,\n",
       "  0.4281761050224304,\n",
       "  0.403548926115036,\n",
       "  0.4071931838989258,\n",
       "  0.4140823781490326,\n",
       "  0.4129815995693207,\n",
       "  0.41936495900154114,\n",
       "  0.4134700894355774,\n",
       "  0.4193292260169983,\n",
       "  0.42852601408958435,\n",
       "  0.4422929883003235,\n",
       "  0.4418371319770813,\n",
       "  0.4682200253009796,\n",
       "  0.4184694290161133,\n",
       "  0.4391065835952759,\n",
       "  0.42565396428108215,\n",
       "  0.39638060331344604,\n",
       "  0.4100545644760132,\n",
       "  0.3992832601070404,\n",
       "  0.43440699577331543,\n",
       "  0.423301100730896,\n",
       "  0.4286251962184906]}"
      ]
     },
     "execution_count": 54,
     "metadata": {},
     "output_type": "execute_result"
    }
   ],
   "source": [
    "history.history"
   ]
  },
  {
   "cell_type": "code",
   "execution_count": 56,
   "id": "c31696d5",
   "metadata": {},
   "outputs": [
    {
     "data": {
      "text/plain": [
       "[<matplotlib.lines.Line2D at 0x274ffb44590>]"
      ]
     },
     "execution_count": 56,
     "metadata": {},
     "output_type": "execute_result"
    },
    {
     "data": {
      "image/png": "[encoded data removed]",
      "text/plain": [
       "<Figure size 640x480 with 1 Axes>"
      ]
     },
     "metadata": {},
     "output_type": "display_data"
    }
   ],
   "source": [
    "# This graph will tells us about whether there is ooverfitting or not.\n",
    "# From this graph and for this dataset there is no overfitting.\n",
    "plt.plot(history.history['loss'])\n",
    "plt.plot(history.history['val_loss'])"
   ]
  },
  {
   "cell_type": "code",
   "execution_count": 57,
   "id": "a891c636",
   "metadata": {},
   "outputs": [
    {
     "data": {
      "text/plain": [
       "[<matplotlib.lines.Line2D at 0x274ffd91c50>]"
      ]
     },
     "execution_count": 57,
     "metadata": {},
     "output_type": "execute_result"
    },
    {
     "data": {
      "image/png": "[encoded data removed]",
      "text/plain": [
       "<Figure size 640x480 with 1 Axes>"
      ]
     },
     "metadata": {},
     "output_type": "display_data"
    }
   ],
   "source": [
    "plt.plot(history.history['accuracy'])\n",
    "plt.plot(history.history['val_accuracy'])"
   ]
  },
  {
   "cell_type": "code",
   "execution_count": null,
   "id": "57f20512",
   "metadata": {},
   "outputs": [],
   "source": []
  }
 ],
 "metadata": {
  "kernelspec": {
   "display_name": "Python 3 (ipykernel)",
   "language": "python",
   "name": "python3"
  },
  "language_info": {
   "codemirror_mode": {
    "name": "ipython",
    "version": 3
   },
   "file_extension": ".py",
   "mimetype": "text/x-python",
   "name": "python",
   "nbconvert_exporter": "python",
   "pygments_lexer": "ipython3",
   "version": "3.11.5"
  }
 },
 "nbformat": 4,
 "nbformat_minor": 5
}
